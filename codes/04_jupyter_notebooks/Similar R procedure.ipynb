{
 "cells": [
  {
   "cell_type": "code",
   "execution_count": 2,
   "id": "initial_id",
   "metadata": {
    "collapsed": true,
    "ExecuteTime": {
     "end_time": "2024-01-24T18:18:57.243792500Z",
     "start_time": "2024-01-24T18:18:55.802433800Z"
    }
   },
   "outputs": [],
   "source": [
    "import pandas as pd\n",
    "import matplotlib.pyplot as plt\n",
    "\n",
    "#data = pd.read_stata(\"./uniswap0826.dta\")"
   ]
  },
  {
   "cell_type": "code",
   "outputs": [],
   "source": [
    "#file_name = \"240103_lp_data_with_sc_and_rec_usage.csv\"\n",
    "#file_name = \"240117_lp_data_with_sc_and_rec_usage.csv\"\n",
    "file_name = \"240124_lp_data_with_sc_and_rec_usage.csv\"\n",
    "data = pd.read_csv(\"../01_create/\" + file_name)\n",
    "data = data.sort_values(by=['pool_addr', 'liquidity_provider', 'week'])\n",
    "price_info = pd.read_csv(\"../01_create/\" + \"240103_weekly_pool_agg_results.csv\")\n",
    "def qtile_25(x):\n",
    "    return x.quantile(0.25)\n",
    "def qtile_75(x):\n",
    "    return x.quantile(0.75)\n",
    "def qtile_10(x):\n",
    "    return x.quantile(0.10)\n",
    "def qtile_90(x):\n",
    "    return x.quantile(0.90)"
   ],
   "metadata": {
    "collapsed": false,
    "ExecuteTime": {
     "end_time": "2024-01-24T18:19:05.634651400Z",
     "start_time": "2024-01-24T18:19:02.457999200Z"
    }
   },
   "id": "31b641ee7ded747b",
   "execution_count": 3
  },
  {
   "cell_type": "code",
   "outputs": [
    {
     "data": {
      "text/plain": "38105"
     },
     "execution_count": 4,
     "metadata": {},
     "output_type": "execute_result"
    }
   ],
   "source": [
    "data[\"liquidity_provider\"].nunique()"
   ],
   "metadata": {
    "collapsed": false,
    "ExecuteTime": {
     "end_time": "2024-01-24T18:19:37.934842300Z",
     "start_time": "2024-01-24T18:19:37.818204900Z"
    }
   },
   "id": "7a62e2c172a1532e",
   "execution_count": 4
  },
  {
   "cell_type": "code",
   "outputs": [],
   "source": [
    "data[\"cum_in\"] = data.groupby(['pool_addr', 'liquidity_provider'])[\"amount_input\"].cumsum()"
   ],
   "metadata": {
    "collapsed": false,
    "ExecuteTime": {
     "end_time": "2024-01-24T18:19:39.335155Z",
     "start_time": "2024-01-24T18:19:39.067077700Z"
    }
   },
   "id": "d7a33bf0a8030ab9",
   "execution_count": 5
  },
  {
   "cell_type": "code",
   "outputs": [],
   "source": [
    "#data = data_bak.copy()\n",
    "data_bak = data.copy()"
   ],
   "metadata": {
    "collapsed": false,
    "ExecuteTime": {
     "end_time": "2024-01-24T18:19:40.554827100Z",
     "start_time": "2024-01-24T18:19:40.400102900Z"
    }
   },
   "id": "f62216bfb77cc4a6",
   "execution_count": 6
  },
  {
   "cell_type": "code",
   "outputs": [],
   "source": [
    "# Filter out the large enough ones \n",
    "#data_bak = data.copy()\n",
    "ok_lp_ids = data[data[\"cum_in\"] > 10][\"liquidity_provider\"].unique()\n",
    "data = data[data[\"liquidity_provider\"].isin(ok_lp_ids)].copy()"
   ],
   "metadata": {
    "collapsed": false,
    "ExecuteTime": {
     "end_time": "2024-01-24T18:19:41.313371900Z",
     "start_time": "2024-01-24T18:19:40.809604400Z"
    }
   },
   "id": "328ae7480a843a4",
   "execution_count": 7
  },
  {
   "cell_type": "code",
   "outputs": [
    {
     "data": {
      "text/plain": "25142"
     },
     "execution_count": 8,
     "metadata": {},
     "output_type": "execute_result"
    }
   ],
   "source": [
    "data[\"liquidity_provider\"].nunique()"
   ],
   "metadata": {
    "collapsed": false,
    "ExecuteTime": {
     "end_time": "2024-01-24T18:19:42.077766300Z",
     "start_time": "2024-01-24T18:19:42.000252700Z"
    }
   },
   "id": "1a93f3dc177d4e5",
   "execution_count": 8
  },
  {
   "cell_type": "code",
   "outputs": [],
   "source": [
    "ok_lp_ids_cond2 = data[data[\"position_cnt\"] < 8][\"liquidity_provider\"].unique()"
   ],
   "metadata": {
    "collapsed": false,
    "ExecuteTime": {
     "end_time": "2024-01-24T18:19:43.703013800Z",
     "start_time": "2024-01-24T18:19:43.534988700Z"
    }
   },
   "id": "4a84cf3442b5a4e2",
   "execution_count": 9
  },
  {
   "cell_type": "code",
   "outputs": [],
   "source": [
    "# Third filtering\n",
    "data[\"week\"] = pd.to_datetime(data['week'])\n",
    "data[\"last_week\"] = data.groupby(['pool_addr', 'liquidity_provider'])[\"week\"].shift(1)\n",
    "data[\"last_two_week\"] = data.groupby(['pool_addr', 'liquidity_provider'])[\"week\"].shift(2)\n",
    "data[\"last_three_week\"] = data.groupby(['pool_addr', 'liquidity_provider'])[\"week\"].shift(3)\n",
    "data[\"last_four_week\"] = data.groupby(['pool_addr', 'liquidity_provider'])[\"week\"].shift(4)"
   ],
   "metadata": {
    "collapsed": false,
    "ExecuteTime": {
     "end_time": "2024-01-24T18:19:51.621960500Z",
     "start_time": "2024-01-24T18:19:50.691985100Z"
    }
   },
   "id": "c1d3cc8dd3f01758",
   "execution_count": 10
  },
  {
   "cell_type": "code",
   "outputs": [],
   "source": [
    "data['continue_flag_con1'] = data[\"week\"] - data[\"last_week\"] == '7 days'\n",
    "data['continue_flag_con2'] = data[\"last_week\"] - data[\"last_two_week\"] == '7 days'\n",
    "data['continue_flag_con3'] = data[\"last_two_week\"] - data[\"last_three_week\"] == '7 days'\n",
    "data['continue_flag_con4'] = data[\"last_three_week\"] - data[\"last_four_week\"] == '7 days'"
   ],
   "metadata": {
    "collapsed": false,
    "ExecuteTime": {
     "end_time": "2024-01-24T18:19:51.682479600Z",
     "start_time": "2024-01-24T18:19:51.606960900Z"
    }
   },
   "id": "a24954895b32899f",
   "execution_count": 11
  },
  {
   "cell_type": "code",
   "outputs": [],
   "source": [
    "data_cond1 = data[data[\"continue_flag_con1\"]].copy()\n",
    "data_cond2 = data_cond1[data_cond1[\"continue_flag_con2\"]].copy()\n",
    "data_cond3 = data_cond2[data_cond2[\"continue_flag_con3\"]].copy()\n",
    "data_cond4 = data_cond3[data_cond3[\"continue_flag_con4\"]].copy()"
   ],
   "metadata": {
    "collapsed": false,
    "ExecuteTime": {
     "end_time": "2024-01-24T18:19:52.772072800Z",
     "start_time": "2024-01-24T18:19:52.143637100Z"
    }
   },
   "id": "9b15ef23a4d8e480",
   "execution_count": 12
  },
  {
   "cell_type": "code",
   "outputs": [],
   "source": [
    "data = data_cond4.copy()"
   ],
   "metadata": {
    "collapsed": false,
    "ExecuteTime": {
     "end_time": "2024-01-24T19:21:52.856773600Z",
     "start_time": "2024-01-24T19:21:52.786191900Z"
    }
   },
   "id": "570a976734c52ab5",
   "execution_count": 27
  },
  {
   "cell_type": "code",
   "outputs": [],
   "source": [
    "data = data[data[\"liquidity_provider\"].isin(ok_lp_ids_cond2)].copy()"
   ],
   "metadata": {
    "collapsed": false,
    "ExecuteTime": {
     "end_time": "2024-01-24T19:21:53.889452100Z",
     "start_time": "2024-01-24T19:21:53.717906500Z"
    }
   },
   "id": "50c257fc66025b7f",
   "execution_count": 28
  },
  {
   "cell_type": "code",
   "outputs": [
    {
     "data": {
      "text/plain": "19959"
     },
     "execution_count": 29,
     "metadata": {},
     "output_type": "execute_result"
    }
   ],
   "source": [
    "data[\"liquidity_provider\"].nunique()"
   ],
   "metadata": {
    "collapsed": false,
    "ExecuteTime": {
     "end_time": "2024-01-24T19:21:54.807470200Z",
     "start_time": "2024-01-24T19:21:54.732465500Z"
    }
   },
   "id": "32bac2d01e31c3a0",
   "execution_count": 29
  },
  {
   "cell_type": "code",
   "outputs": [],
   "source": [
    "#data = data[data[\"sc_usage_avg\"] > 0]"
   ],
   "metadata": {
    "collapsed": false,
    "ExecuteTime": {
     "end_time": "2024-01-24T19:21:55.685302500Z",
     "start_time": "2024-01-24T19:21:55.671302100Z"
    }
   },
   "id": "8f881dcf6a5a90d9",
   "execution_count": 30
  },
  {
   "cell_type": "code",
   "outputs": [
    {
     "data": {
      "text/plain": "(541453, 27)"
     },
     "execution_count": 31,
     "metadata": {},
     "output_type": "execute_result"
    }
   ],
   "source": [
    "data.shape"
   ],
   "metadata": {
    "collapsed": false,
    "ExecuteTime": {
     "end_time": "2024-01-24T19:21:56.575712400Z",
     "start_time": "2024-01-24T19:21:56.546722Z"
    }
   },
   "id": "d300335cc35d7e53",
   "execution_count": 31
  },
  {
   "cell_type": "code",
   "execution_count": 33,
   "outputs": [],
   "source": [
    "data = data_bak.copy()"
   ],
   "metadata": {
    "collapsed": false,
    "ExecuteTime": {
     "end_time": "2024-01-24T19:45:13.311991500Z",
     "start_time": "2024-01-24T19:45:13.223616200Z"
    }
   },
   "id": "55514a85a3ad746e"
  },
  {
   "cell_type": "code",
   "outputs": [],
   "source": [
    "pool_addrs = ['0x11b815efb8f581194ae79006d24e0d814b7697f6',\n",
    "                  '0x4e68ccd3e89f51c3074ca5072bbac773960dfa36',\n",
    "                  '0x88e6a0c2ddd26feeb64f039a2c41296fcb3f5640',\n",
    "                  '0x8ad599c3a0ff1de082011efddc58f1908eb6e6d8']\n",
    "for pool_addr in pool_addrs:\n",
    "    price_info_given_pool = price_info[price_info[\"pool_address\"] == pool_addr].copy()\n",
    "    data_given_pool = data[data[\"pool_addr\"]==pool_addr].copy()\n",
    "    data_given_pool[\"cum_overall_roi\"] = data_given_pool.groupby(['liquidity_provider'])[\"overall_roi\"].cumprod()\n",
    "    # get the LP-SC mapping:\n",
    "    lp_sc_mapping = pd.read_csv(\"../01_create/\" + pool_addr + \"lp_using_verified_sc.csv\")[[\"liquidity_provider\",\"week\"]]\n",
    "    data_given_pool[\"week\"] = pd.to_datetime(data['week']).astype(str)\n",
    "    lp_sc_mapping[\"sc_type\"] = \"verified\"\n",
    "    with_sc_type = data_given_pool.merge(lp_sc_mapping, how='left', on=['liquidity_provider', 'week'])\n",
    "    regular_sc_usage = (with_sc_type[\"sc_usage_avg\"] > 0) & (with_sc_type[\"sc_type\"].isna())\n",
    "    with_sc_type.loc[regular_sc_usage, \"sc_type\"] = 'non_verified'\n",
    "    with_sc_type[\"sc_type\"] = with_sc_type[\"sc_type\"].fillna(\"not_sc\")\n",
    "\n",
    "    # grouped_temp_data = with_sc_type.groupby([\"sc_type\", \"week\"]).agg(\n",
    "    #     cum_overall_mean=('cum_overall_roi', 'mean'),\n",
    "    #     cum_overall_median=('cum_overall_roi', 'median'),\n",
    "    #     cum_overall_q10=('cum_overall_roi', qtile_10),\n",
    "    #     cum_overall_q25=('cum_overall_roi', qtile_25),\n",
    "    #     cum_overall_q90=('cum_overall_roi', qtile_90),\n",
    "    #     cum_overall_q75=('cum_overall_roi', qtile_75),\n",
    "    # ).reset_index()\n",
    "    grouped_temp_data = with_sc_type.groupby([\"sc_type\", \"week\"]).agg(\n",
    "            daily_overall_avg=('overall_roi', 'mean'),\n",
    "            daily_amt_avg=('amt_roi', 'mean'),\n",
    "            daily_fee_avg=('fee_roi', 'mean'),\n",
    "            daily_overall_median=('overall_roi', 'median'),\n",
    "            daily_amt_median=('amt_roi', 'median'),\n",
    "            daily_fee_median=('fee_roi', 'median'),\n",
    "            daily_overall_q75=('overall_roi', qtile_75),\n",
    "            daily_amt_q75=('amt_roi', qtile_75),\n",
    "            daily_fee_q75=('fee_roi', qtile_75),\n",
    "            daily_overall_q25=('overall_roi', qtile_25),\n",
    "            daily_amt_q25=('amt_roi', qtile_25),\n",
    "            daily_fee_q25=('fee_roi', qtile_25),\n",
    "            daily_overall_q10=('overall_roi', qtile_10),\n",
    "            daily_amt_q10=('amt_roi', qtile_10),\n",
    "            daily_fee_q10=('fee_roi', qtile_10),\n",
    "            daily_overall_q90=('overall_roi', qtile_90),\n",
    "            daily_amt_q90=('amt_roi', qtile_90),\n",
    "            daily_fee_q90=('fee_roi', qtile_90),\n",
    "    ).reset_index()\n",
    "    \n",
    "    grouped_temp_data['date'] = pd.to_datetime(grouped_temp_data['week'])\n",
    "    grouped_temp_data.set_index(['date'], inplace=True)\n",
    "    #col_names = ['cum_overall_mean', 'cum_overall_median', 'cum_overall_q10', 'cum_overall_q25', 'cum_overall_q75', 'cum_overall_q90']\n",
    "    col_names = ['daily_overall_avg', 'daily_amt_avg', 'daily_fee_avg', 'daily_overall_median', 'daily_amt_median', 'daily_fee_median',\n",
    "                 'daily_overall_q75', 'daily_amt_q75', 'daily_fee_q75', 'daily_overall_q25', 'daily_amt_q25', 'daily_fee_q25',\n",
    "                 'daily_overall_q10', 'daily_amt_q10', 'daily_fee_q10', 'daily_overall_q90', 'daily_amt_q90', 'daily_fee_q90'\n",
    "                 ]\n",
    "    for temp_col_name in col_names:\n",
    "        import matplotlib.pyplot as plt\n",
    "        # true_human_cond = grouped_temp_data['lp_type'] == 'rec_only'\n",
    "        # false_human_cond = grouped_temp_data['lp_type'] == 'manual_only'\n",
    "        # mixed_human_cond = grouped_temp_data['lp_type'] == 'rec_and_manual_mixed'\n",
    "        # sc_cond = grouped_temp_data['lp_type'] == 'sc_only'\n",
    "        # data_true = grouped_temp_data[true_human_cond].copy().reset_index()\n",
    "        # data_false = grouped_temp_data[false_human_cond].copy().reset_index()\n",
    "        # data_mixed = grouped_temp_data[mixed_human_cond].copy().reset_index()\n",
    "        verified_sc_cond = grouped_temp_data['sc_type'] == 'verified'\n",
    "        non_verified_cond = grouped_temp_data['sc_type'] == 'non_verified'\n",
    "        human_cond = grouped_temp_data['sc_type'] == 'not_sc'\n",
    "        #sc_cond = grouped_temp_data['lp_type'] == 'sc_only'\n",
    "        data_true = grouped_temp_data[verified_sc_cond].copy().reset_index()\n",
    "        data_false = grouped_temp_data[non_verified_cond].copy().reset_index()\n",
    "        data_human = grouped_temp_data[human_cond].copy().reset_index()\n",
    "        #data_sc = grouped_temp_data[sc_cond].copy().reset_index()\n",
    "        # 'alive_positions', 'money_in_pool_total', 'money_in_pool_avg',\n",
    "        #        'money_in_pool_median', 'daily_price', 'overall_earning_count',\n",
    "        #        'overall_in_range', 'age_avg', 'age_median', 'in_range_perc',\n",
    "        #        'overall_earning_perc'],\n",
    "        # Creating a twin Y-axis for the 'daily_price' column\n",
    "        fig, ax1 = plt.subplots(figsize=(24, 8))\n",
    "        # Plotting 'daily_fee_avg_winsorized' on the primary Y-axis\n",
    "        ax1.plot(data_true['date'], data_true[temp_col_name], label='Verified SC', color='blue', linestyle='--',)\n",
    "        ax1.plot(data_human['date'], data_human[temp_col_name], label='Human Pos', color='green', linestyle='--')\n",
    "        ax1.plot(data_false['date'], data_false[temp_col_name], label='Non-Verified SC', color='orange', linestyle='--')\n",
    "        #ax1.plot(data_mixed['date'], data_mixed[temp_col_name], label='Manual and Rec Mixed Strategy', color='red', linestyle='--')\n",
    "\n",
    "        #ax1.plot(data_non_sc['week'], data_non_sc[col_name], label='Human', color='blue', linestyle='--',)\n",
    "        #ax1.plot(data_sc['week'], data_sc[col_name], label='SC', color='green', linestyle='--')\n",
    "        # ax1.plot(data_true['date'], data_true[col_name], label='Rec ', color='green', linestyle='--')\n",
    "        # ax1.plot(data_nonrec_and_rec['date'], data_nonrec_and_rec[temp_col_name+\"_x\"]/data_nonrec_and_rec[temp_col_name+\"_y\"], label='Non-rec vs Rec only', color='orange', linestyle='--')\n",
    "        # ax1.plot(data_mixed_and_rec['date'], data_mixed_and_rec[temp_col_name+\"_x\"]/data_mixed_and_rec[temp_col_name+\"_y\"], label='Mixed vs Rec only', color='red', linestyle='--')\n",
    "        #ax1.axhline(y=1.0, color='blue', label='Baseline = 1.0 (Earns Money)')\n",
    "\n",
    "        #ax1.plot(data_false['date'], data_false[col_name], label='Manual', color='orange', linestyle='--')\n",
    "        #ax1.plot(data_sc['date'], data_sc[col_name], label='SC', color='green', linestyle='--')\n",
    "\n",
    "        #ax1.plot(data_false['date'], data_false[col_name], label='Recommended = False', color='red', linestyle='--', alpha=0.7)\n",
    "        ax1.set_xlabel('Date')\n",
    "        ax1.set_ylabel(temp_col_name, color='black')\n",
    "        ax1.tick_params(axis='y', labelcolor='black')\n",
    "        ax1.legend(loc='upper left')\n",
    "        ax1.grid(True)\n",
    "\n",
    "        plt.title(temp_col_name + ' in ' + pool_addr + ' Over Time')\n",
    "        plt.savefig(\"./graph_roi_0123/\" + temp_col_name + '_' + pool_addr + \".png\")\n",
    "        plt.close()\n",
    "    # Show the plot\n"
   ],
   "metadata": {
    "collapsed": false,
    "ExecuteTime": {
     "end_time": "2024-01-24T18:46:04.954086400Z",
     "start_time": "2024-01-24T18:45:12.548268300Z"
    }
   },
   "id": "5176e20c9ac97443",
   "execution_count": 22
  },
  {
   "cell_type": "code",
   "execution_count": 34,
   "outputs": [
    {
     "name": "stdout",
     "output_type": "stream",
     "text": [
      "                count          mean           std           min           25%  \\\n",
      "sc_type                                                                         \n",
      "non_verified    313.0  4.643720e+06  1.125618e+07  2.510016e-02  40781.069153   \n",
      "not_sc        14677.0  8.196622e+05  6.654320e+06  6.477095e-08   5560.858097   \n",
      "verified       8179.0  8.697047e+04  6.418341e+05  3.057618e-03    171.576166   \n",
      "\n",
      "                        50%           75%           max  \n",
      "sc_type                                                  \n",
      "non_verified  327481.753543  2.362669e+06  6.957581e+07  \n",
      "not_sc         36244.911277  2.011576e+05  2.866998e+08  \n",
      "verified        4538.378425  3.925725e+04  4.518394e+07  \n",
      "                count          mean           std           min           25%  \\\n",
      "sc_type                                                                         \n",
      "non_verified    181.0  1.812395e+06  6.077982e+06  6.356919e+00  14211.593387   \n",
      "not_sc        43333.0  1.643936e+05  1.536418e+06  2.950584e-11      3.934627   \n",
      "verified      42195.0  5.086500e+04  5.904313e+05  3.116004e-02   2989.650439   \n",
      "\n",
      "                       50%            75%           max  \n",
      "sc_type                                                  \n",
      "non_verified  43684.900306  256433.572216  4.441048e+07  \n",
      "not_sc          690.355735   19692.927813  1.253315e+08  \n",
      "verified       5905.680588   28979.339568  6.271017e+07  \n"
     ]
    }
   ],
   "source": [
    "pool_addrs = ['0x88e6a0c2ddd26feeb64f039a2c41296fcb3f5640',\n",
    "                  '0x8ad599c3a0ff1de082011efddc58f1908eb6e6d8']\n",
    "for pool_addr in pool_addrs:\n",
    "    price_info_given_pool = price_info[price_info[\"pool_address\"] == pool_addr].copy()\n",
    "    data_given_pool = data[data[\"pool_addr\"]==pool_addr].copy()\n",
    "    data_given_pool[\"cum_overall_roi\"] = data_given_pool.groupby(['liquidity_provider'])[\"overall_roi\"].cumprod()\n",
    "    # get the LP-SC mapping:\n",
    "    lp_sc_mapping = pd.read_csv(\"../01_create/\" + pool_addr + \"lp_using_verified_sc.csv\")[[\"liquidity_provider\",\"week\"]]\n",
    "    data_given_pool[\"week\"] = pd.to_datetime(data['week']).astype(str)\n",
    "    lp_sc_mapping[\"sc_type\"] = \"verified\"\n",
    "    with_sc_type = data_given_pool.merge(lp_sc_mapping, how='left', on=['liquidity_provider', 'week'])\n",
    "    regular_sc_usage = (with_sc_type[\"sc_usage_avg\"] > 0) & (with_sc_type[\"sc_type\"].isna())\n",
    "    with_sc_type.loc[regular_sc_usage, \"sc_type\"] = 'non_verified'\n",
    "    with_sc_type[\"sc_type\"] = with_sc_type[\"sc_type\"].fillna(\"not_sc\")\n",
    "    larger_than_zero = with_sc_type[with_sc_type[\"amount_input\"] > 0].copy()\n",
    "    print(larger_than_zero.groupby([\"sc_type\"])[\"amount_input\"].describe())"
   ],
   "metadata": {
    "collapsed": false,
    "ExecuteTime": {
     "end_time": "2024-01-24T19:45:32.303736500Z",
     "start_time": "2024-01-24T19:45:18.278066900Z"
    }
   },
   "id": "1d5e2155ec3c5be1"
  },
  {
   "cell_type": "code",
   "execution_count": 24,
   "outputs": [
    {
     "data": {
      "text/plain": "Index(['pool_addr', 'liquidity_provider', 'week', 'overall_roi', 'amt_roi',\n       'fee_roi', 'fee', 'amt', 'amt_last', 'amount_input', 'amount_output',\n       'position_cnt', 'active_perc', 'sc_usage_avg', 'rec_usage_avg',\n       'lp_type', 'mean_tx_fee', 'sum_tx_fee', 'cum_in', 'cum_overall_roi',\n       'sc_type'],\n      dtype='object')"
     },
     "execution_count": 24,
     "metadata": {},
     "output_type": "execute_result"
    }
   ],
   "source": [
    "with_sc_type.columns"
   ],
   "metadata": {
    "collapsed": false,
    "ExecuteTime": {
     "end_time": "2024-01-24T19:19:28.822035700Z",
     "start_time": "2024-01-24T19:19:28.746033Z"
    }
   },
   "id": "9c36b44a0e8d485a"
  },
  {
   "cell_type": "code",
   "outputs": [
    {
     "data": {
      "text/plain": "                                         pool_addr  \\\n174156  0x8ad599c3a0ff1de082011efddc58f1908eb6e6d8   \n174157  0x8ad599c3a0ff1de082011efddc58f1908eb6e6d8   \n174158  0x8ad599c3a0ff1de082011efddc58f1908eb6e6d8   \n174159  0x8ad599c3a0ff1de082011efddc58f1908eb6e6d8   \n174160  0x8ad599c3a0ff1de082011efddc58f1908eb6e6d8   \n...                                            ...   \n898985  0x8ad599c3a0ff1de082011efddc58f1908eb6e6d8   \n898986  0x8ad599c3a0ff1de082011efddc58f1908eb6e6d8   \n898987  0x8ad599c3a0ff1de082011efddc58f1908eb6e6d8   \n898988  0x8ad599c3a0ff1de082011efddc58f1908eb6e6d8   \n898989  0x8ad599c3a0ff1de082011efddc58f1908eb6e6d8   \n\n                                liquidity_provider        week  overall_roi  \\\n174156  0x00000000000b4bdf11195d2a010c32a91b8af06a  2022-07-24     1.046423   \n174157  0x00000000000b4bdf11195d2a010c32a91b8af06a  2022-07-31     1.004022   \n174158  0x00000000000b4bdf11195d2a010c32a91b8af06a  2022-08-07     1.063434   \n174159  0x00000000000b4bdf11195d2a010c32a91b8af06a  2022-08-14     0.919410   \n174160  0x00000000000b4bdf11195d2a010c32a91b8af06a  2022-08-21     0.980812   \n...                                            ...         ...          ...   \n898985  0xfffa09b517354968d378573c9a31d1586fd8792d  2022-11-27     1.008945   \n898986  0xfffa09b517354968d378573c9a31d1586fd8792d  2022-12-04     0.997288   \n898987  0xfffa09b517354968d378573c9a31d1586fd8792d  2022-12-11     0.987953   \n898988  0xfffa09b517354968d378573c9a31d1586fd8792d  2022-12-18     1.006439   \n898989  0xfffa09b517354968d378573c9a31d1586fd8792d  2022-12-25     0.986847   \n\n         amt_roi   fee_roi       fee          amt     amt_last  amount_input  \\\n174156  1.038826  0.007598  0.184905    25.281673    24.336780      0.000000   \n174157  0.999783  0.004239  0.107167    25.276196    25.281673      0.000000   \n174158  1.059542  0.003891  0.098362    26.781202    25.276196      0.000000   \n174159  0.915265  0.004145  0.111010    24.511887    26.781202      0.000000   \n174160  0.976096  0.004716  0.115604    23.925960    24.511887      0.000000   \n...          ...       ...       ...          ...          ...           ...   \n898985  1.007554  0.001390  6.468989  4688.543698  4653.389820   3559.118161   \n898986  0.996303  0.000984  4.719385  4776.544269  4794.266326   3620.146620   \n898987  0.987276  0.000677  4.121718  6010.390759  6087.855674   4907.866604   \n898988  1.005251  0.001188  2.957339  2501.423567  2488.357632   1257.350996   \n898989  0.985704  0.001143  1.438035  1240.054932  1258.039720      0.000000   \n\n        ...         cum_in  last_week  last_two_week  last_three_week  \\\n174156  ...      21.261458 2022-07-17     2022-07-10       2022-07-03   \n174157  ...      21.261458 2022-07-24     2022-07-17       2022-07-10   \n174158  ...      21.261458 2022-07-31     2022-07-24       2022-07-17   \n174159  ...      21.261458 2022-08-07     2022-07-31       2022-07-24   \n174160  ...      21.261458 2022-08-14     2022-08-07       2022-07-31   \n...     ...            ...        ...            ...              ...   \n898985  ...  126994.264712 2022-11-20     2022-11-13       2022-11-06   \n898986  ...  130614.411332 2022-11-27     2022-11-20       2022-11-13   \n898987  ...  135522.277936 2022-12-04     2022-11-27       2022-11-20   \n898988  ...  136779.628932 2022-12-11     2022-12-04       2022-11-27   \n898989  ...  136779.628932 2022-12-18     2022-12-11       2022-12-04   \n\n        last_four_week continue_flag_con1  continue_flag_con2  \\\n174156      2022-06-26               True                True   \n174157      2022-07-03               True                True   \n174158      2022-07-10               True                True   \n174159      2022-07-17               True                True   \n174160      2022-07-24               True                True   \n...                ...                ...                 ...   \n898985      2022-10-30               True                True   \n898986      2022-11-06               True                True   \n898987      2022-11-13               True                True   \n898988      2022-11-20               True                True   \n898989      2022-11-27               True                True   \n\n        continue_flag_con3  continue_flag_con4 cum_overall_roi  \n174156                True                True        1.046423  \n174157                True                True        1.050633  \n174158                True                True        1.117278  \n174159                True                True        1.027237  \n174160                True                True        1.007526  \n...                    ...                 ...             ...  \n898985                True                True        1.037017  \n898986                True                True        1.034204  \n898987                True                True        1.021745  \n898988                True                True        1.028324  \n898989                True                True        1.014798  \n\n[339264 rows x 28 columns]",
      "text/html": "<div>\n<style scoped>\n    .dataframe tbody tr th:only-of-type {\n        vertical-align: middle;\n    }\n\n    .dataframe tbody tr th {\n        vertical-align: top;\n    }\n\n    .dataframe thead th {\n        text-align: right;\n    }\n</style>\n<table border=\"1\" class=\"dataframe\">\n  <thead>\n    <tr style=\"text-align: right;\">\n      <th></th>\n      <th>pool_addr</th>\n      <th>liquidity_provider</th>\n      <th>week</th>\n      <th>overall_roi</th>\n      <th>amt_roi</th>\n      <th>fee_roi</th>\n      <th>fee</th>\n      <th>amt</th>\n      <th>amt_last</th>\n      <th>amount_input</th>\n      <th>...</th>\n      <th>cum_in</th>\n      <th>last_week</th>\n      <th>last_two_week</th>\n      <th>last_three_week</th>\n      <th>last_four_week</th>\n      <th>continue_flag_con1</th>\n      <th>continue_flag_con2</th>\n      <th>continue_flag_con3</th>\n      <th>continue_flag_con4</th>\n      <th>cum_overall_roi</th>\n    </tr>\n  </thead>\n  <tbody>\n    <tr>\n      <th>174156</th>\n      <td>0x8ad599c3a0ff1de082011efddc58f1908eb6e6d8</td>\n      <td>0x00000000000b4bdf11195d2a010c32a91b8af06a</td>\n      <td>2022-07-24</td>\n      <td>1.046423</td>\n      <td>1.038826</td>\n      <td>0.007598</td>\n      <td>0.184905</td>\n      <td>25.281673</td>\n      <td>24.336780</td>\n      <td>0.000000</td>\n      <td>...</td>\n      <td>21.261458</td>\n      <td>2022-07-17</td>\n      <td>2022-07-10</td>\n      <td>2022-07-03</td>\n      <td>2022-06-26</td>\n      <td>True</td>\n      <td>True</td>\n      <td>True</td>\n      <td>True</td>\n      <td>1.046423</td>\n    </tr>\n    <tr>\n      <th>174157</th>\n      <td>0x8ad599c3a0ff1de082011efddc58f1908eb6e6d8</td>\n      <td>0x00000000000b4bdf11195d2a010c32a91b8af06a</td>\n      <td>2022-07-31</td>\n      <td>1.004022</td>\n      <td>0.999783</td>\n      <td>0.004239</td>\n      <td>0.107167</td>\n      <td>25.276196</td>\n      <td>25.281673</td>\n      <td>0.000000</td>\n      <td>...</td>\n      <td>21.261458</td>\n      <td>2022-07-24</td>\n      <td>2022-07-17</td>\n      <td>2022-07-10</td>\n      <td>2022-07-03</td>\n      <td>True</td>\n      <td>True</td>\n      <td>True</td>\n      <td>True</td>\n      <td>1.050633</td>\n    </tr>\n    <tr>\n      <th>174158</th>\n      <td>0x8ad599c3a0ff1de082011efddc58f1908eb6e6d8</td>\n      <td>0x00000000000b4bdf11195d2a010c32a91b8af06a</td>\n      <td>2022-08-07</td>\n      <td>1.063434</td>\n      <td>1.059542</td>\n      <td>0.003891</td>\n      <td>0.098362</td>\n      <td>26.781202</td>\n      <td>25.276196</td>\n      <td>0.000000</td>\n      <td>...</td>\n      <td>21.261458</td>\n      <td>2022-07-31</td>\n      <td>2022-07-24</td>\n      <td>2022-07-17</td>\n      <td>2022-07-10</td>\n      <td>True</td>\n      <td>True</td>\n      <td>True</td>\n      <td>True</td>\n      <td>1.117278</td>\n    </tr>\n    <tr>\n      <th>174159</th>\n      <td>0x8ad599c3a0ff1de082011efddc58f1908eb6e6d8</td>\n      <td>0x00000000000b4bdf11195d2a010c32a91b8af06a</td>\n      <td>2022-08-14</td>\n      <td>0.919410</td>\n      <td>0.915265</td>\n      <td>0.004145</td>\n      <td>0.111010</td>\n      <td>24.511887</td>\n      <td>26.781202</td>\n      <td>0.000000</td>\n      <td>...</td>\n      <td>21.261458</td>\n      <td>2022-08-07</td>\n      <td>2022-07-31</td>\n      <td>2022-07-24</td>\n      <td>2022-07-17</td>\n      <td>True</td>\n      <td>True</td>\n      <td>True</td>\n      <td>True</td>\n      <td>1.027237</td>\n    </tr>\n    <tr>\n      <th>174160</th>\n      <td>0x8ad599c3a0ff1de082011efddc58f1908eb6e6d8</td>\n      <td>0x00000000000b4bdf11195d2a010c32a91b8af06a</td>\n      <td>2022-08-21</td>\n      <td>0.980812</td>\n      <td>0.976096</td>\n      <td>0.004716</td>\n      <td>0.115604</td>\n      <td>23.925960</td>\n      <td>24.511887</td>\n      <td>0.000000</td>\n      <td>...</td>\n      <td>21.261458</td>\n      <td>2022-08-14</td>\n      <td>2022-08-07</td>\n      <td>2022-07-31</td>\n      <td>2022-07-24</td>\n      <td>True</td>\n      <td>True</td>\n      <td>True</td>\n      <td>True</td>\n      <td>1.007526</td>\n    </tr>\n    <tr>\n      <th>...</th>\n      <td>...</td>\n      <td>...</td>\n      <td>...</td>\n      <td>...</td>\n      <td>...</td>\n      <td>...</td>\n      <td>...</td>\n      <td>...</td>\n      <td>...</td>\n      <td>...</td>\n      <td>...</td>\n      <td>...</td>\n      <td>...</td>\n      <td>...</td>\n      <td>...</td>\n      <td>...</td>\n      <td>...</td>\n      <td>...</td>\n      <td>...</td>\n      <td>...</td>\n      <td>...</td>\n    </tr>\n    <tr>\n      <th>898985</th>\n      <td>0x8ad599c3a0ff1de082011efddc58f1908eb6e6d8</td>\n      <td>0xfffa09b517354968d378573c9a31d1586fd8792d</td>\n      <td>2022-11-27</td>\n      <td>1.008945</td>\n      <td>1.007554</td>\n      <td>0.001390</td>\n      <td>6.468989</td>\n      <td>4688.543698</td>\n      <td>4653.389820</td>\n      <td>3559.118161</td>\n      <td>...</td>\n      <td>126994.264712</td>\n      <td>2022-11-20</td>\n      <td>2022-11-13</td>\n      <td>2022-11-06</td>\n      <td>2022-10-30</td>\n      <td>True</td>\n      <td>True</td>\n      <td>True</td>\n      <td>True</td>\n      <td>1.037017</td>\n    </tr>\n    <tr>\n      <th>898986</th>\n      <td>0x8ad599c3a0ff1de082011efddc58f1908eb6e6d8</td>\n      <td>0xfffa09b517354968d378573c9a31d1586fd8792d</td>\n      <td>2022-12-04</td>\n      <td>0.997288</td>\n      <td>0.996303</td>\n      <td>0.000984</td>\n      <td>4.719385</td>\n      <td>4776.544269</td>\n      <td>4794.266326</td>\n      <td>3620.146620</td>\n      <td>...</td>\n      <td>130614.411332</td>\n      <td>2022-11-27</td>\n      <td>2022-11-20</td>\n      <td>2022-11-13</td>\n      <td>2022-11-06</td>\n      <td>True</td>\n      <td>True</td>\n      <td>True</td>\n      <td>True</td>\n      <td>1.034204</td>\n    </tr>\n    <tr>\n      <th>898987</th>\n      <td>0x8ad599c3a0ff1de082011efddc58f1908eb6e6d8</td>\n      <td>0xfffa09b517354968d378573c9a31d1586fd8792d</td>\n      <td>2022-12-11</td>\n      <td>0.987953</td>\n      <td>0.987276</td>\n      <td>0.000677</td>\n      <td>4.121718</td>\n      <td>6010.390759</td>\n      <td>6087.855674</td>\n      <td>4907.866604</td>\n      <td>...</td>\n      <td>135522.277936</td>\n      <td>2022-12-04</td>\n      <td>2022-11-27</td>\n      <td>2022-11-20</td>\n      <td>2022-11-13</td>\n      <td>True</td>\n      <td>True</td>\n      <td>True</td>\n      <td>True</td>\n      <td>1.021745</td>\n    </tr>\n    <tr>\n      <th>898988</th>\n      <td>0x8ad599c3a0ff1de082011efddc58f1908eb6e6d8</td>\n      <td>0xfffa09b517354968d378573c9a31d1586fd8792d</td>\n      <td>2022-12-18</td>\n      <td>1.006439</td>\n      <td>1.005251</td>\n      <td>0.001188</td>\n      <td>2.957339</td>\n      <td>2501.423567</td>\n      <td>2488.357632</td>\n      <td>1257.350996</td>\n      <td>...</td>\n      <td>136779.628932</td>\n      <td>2022-12-11</td>\n      <td>2022-12-04</td>\n      <td>2022-11-27</td>\n      <td>2022-11-20</td>\n      <td>True</td>\n      <td>True</td>\n      <td>True</td>\n      <td>True</td>\n      <td>1.028324</td>\n    </tr>\n    <tr>\n      <th>898989</th>\n      <td>0x8ad599c3a0ff1de082011efddc58f1908eb6e6d8</td>\n      <td>0xfffa09b517354968d378573c9a31d1586fd8792d</td>\n      <td>2022-12-25</td>\n      <td>0.986847</td>\n      <td>0.985704</td>\n      <td>0.001143</td>\n      <td>1.438035</td>\n      <td>1240.054932</td>\n      <td>1258.039720</td>\n      <td>0.000000</td>\n      <td>...</td>\n      <td>136779.628932</td>\n      <td>2022-12-18</td>\n      <td>2022-12-11</td>\n      <td>2022-12-04</td>\n      <td>2022-11-27</td>\n      <td>True</td>\n      <td>True</td>\n      <td>True</td>\n      <td>True</td>\n      <td>1.014798</td>\n    </tr>\n  </tbody>\n</table>\n<p>339264 rows × 28 columns</p>\n</div>"
     },
     "execution_count": 50,
     "metadata": {},
     "output_type": "execute_result"
    }
   ],
   "source": [
    "data_given_pool"
   ],
   "metadata": {
    "collapsed": false,
    "ExecuteTime": {
     "end_time": "2024-01-24T05:09:11.834794Z",
     "start_time": "2024-01-24T05:09:11.754678Z"
    }
   },
   "id": "9b18eb34b74ab340",
   "execution_count": 50
  },
  {
   "cell_type": "code",
   "outputs": [
    {
     "data": {
      "text/plain": "sc_type\nnot_sc      287638\nverified     51626\nName: count, dtype: int64"
     },
     "execution_count": 49,
     "metadata": {},
     "output_type": "execute_result"
    }
   ],
   "source": [
    "#with_sc_type[\"sc_type\"].value_counts()"
   ],
   "metadata": {
    "collapsed": false,
    "ExecuteTime": {
     "end_time": "2024-01-24T05:08:00.929969Z",
     "start_time": "2024-01-24T05:08:00.915846Z"
    }
   },
   "id": "c8376094d5cf5a7f",
   "execution_count": 49
  },
  {
   "cell_type": "code",
   "outputs": [
    {
     "data": {
      "text/plain": "17386"
     },
     "execution_count": 51,
     "metadata": {},
     "output_type": "execute_result"
    }
   ],
   "source": [
    "data[\"liquidity_provider\"].nunique()"
   ],
   "metadata": {
    "collapsed": false,
    "ExecuteTime": {
     "end_time": "2024-01-18T04:47:34.430714Z",
     "start_time": "2024-01-18T04:47:34.404750Z"
    }
   },
   "id": "d45dbe75822d4dab",
   "execution_count": 51
  },
  {
   "cell_type": "code",
   "outputs": [
    {
     "data": {
      "text/plain": "(52002, 28)"
     },
     "execution_count": 27,
     "metadata": {},
     "output_type": "execute_result"
    }
   ],
   "source": [
    "datadata_given_pool.shape"
   ],
   "metadata": {
    "collapsed": false,
    "ExecuteTime": {
     "end_time": "2024-01-24T05:05:19.931657Z",
     "start_time": "2024-01-24T05:05:19.924838Z"
    }
   },
   "id": "d368cfdc6c633f0e",
   "execution_count": 27
  },
  {
   "cell_type": "code",
   "outputs": [
    {
     "data": {
      "text/plain": "(94309, 27)"
     },
     "execution_count": 28,
     "metadata": {},
     "output_type": "execute_result"
    }
   ],
   "source": [
    "data.shape"
   ],
   "metadata": {
    "collapsed": false,
    "ExecuteTime": {
     "end_time": "2024-01-24T05:05:23.282264Z",
     "start_time": "2024-01-24T05:05:23.277415Z"
    }
   },
   "id": "6e539309615ec63b",
   "execution_count": 28
  },
  {
   "cell_type": "code",
   "outputs": [
    {
     "data": {
      "text/plain": "lp_type\nmanual_only             1.000104\nrec_and_manual_mixed    0.997628\nrec_only                0.998020\nsc_only                 0.999247\nName: overall_roi, dtype: float64"
     },
     "execution_count": 55,
     "metadata": {},
     "output_type": "execute_result"
    }
   ],
   "source": [
    "data.groupby([\"lp_type\"])[\"overall_roi\"].mean()"
   ],
   "metadata": {
    "collapsed": false,
    "ExecuteTime": {
     "end_time": "2024-01-18T04:50:37.844337Z",
     "start_time": "2024-01-18T04:50:37.803882Z"
    }
   },
   "id": "34190111726bfd95",
   "execution_count": 55
  },
  {
   "cell_type": "code",
   "outputs": [],
   "source": [
    "data.to_stata(\"/Users/allen/Downloads/test0117.dta\")"
   ],
   "metadata": {
    "collapsed": false,
    "ExecuteTime": {
     "end_time": "2024-01-18T04:51:23.512800Z",
     "start_time": "2024-01-18T04:51:20.958065Z"
    }
   },
   "id": "91cbaf594ae3c876",
   "execution_count": 56
  },
  {
   "cell_type": "code",
   "outputs": [
    {
     "data": {
      "text/plain": "(899087, 19)"
     },
     "execution_count": 29,
     "metadata": {},
     "output_type": "execute_result"
    }
   ],
   "source": [
    "data_bak.shape"
   ],
   "metadata": {
    "collapsed": false,
    "ExecuteTime": {
     "end_time": "2024-01-24T05:05:33.175024Z",
     "start_time": "2024-01-24T05:05:33.170580Z"
    }
   },
   "id": "77da20e2d524a904",
   "execution_count": 29
  },
  {
   "cell_type": "code",
   "outputs": [],
   "source": [],
   "metadata": {
    "collapsed": false
   },
   "id": "2a3ca3a63624eb6a"
  }
 ],
 "metadata": {
  "kernelspec": {
   "display_name": "Python 3",
   "language": "python",
   "name": "python3"
  },
  "language_info": {
   "codemirror_mode": {
    "name": "ipython",
    "version": 2
   },
   "file_extension": ".py",
   "mimetype": "text/x-python",
   "name": "python",
   "nbconvert_exporter": "python",
   "pygments_lexer": "ipython2",
   "version": "2.7.6"
  }
 },
 "nbformat": 4,
 "nbformat_minor": 5
}
