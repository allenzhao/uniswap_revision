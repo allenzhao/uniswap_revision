{
 "cells": [
  {
   "cell_type": "code",
   "execution_count": 3,
   "metadata": {},
   "outputs": [],
   "source": [
    "import pandas as pd\n",
    "df = pd.read_stata(\"C:/Users/zxz170017/Downloads/test_uni1012.dta\")"
   ]
  },
  {
   "cell_type": "code",
   "execution_count": 7,
   "metadata": {},
   "outputs": [],
   "source": [
    "non_sc_users = df[df[\"sc_flag\"]==0][\"liquidity_provider\"].unique()\n"
   ]
  },
  {
   "cell_type": "code",
   "execution_count": 9,
   "metadata": {},
   "outputs": [],
   "source": [
    "sc_users = df[df[\"sc_flag\"]==1][\"liquidity_provider\"].unique()"
   ]
  },
  {
   "cell_type": "code",
   "execution_count": 10,
   "metadata": {},
   "outputs": [],
   "source": [
    "# intersection between sc and non-sc\n",
    "intersection = list(set(sc_users) & set(non_sc_users))\n",
    "\n",
    "# non-sc users\n",
    "non_sc_users_df = df[df[\"liquidity_provider\"].isin(non_sc_users)]\n",
    "\n",
    "# sc users\n",
    "sc_users_df = df[df[\"liquidity_provider\"].isin(sc_users)]"
   ]
  },
  {
   "cell_type": "code",
   "execution_count": 16,
   "metadata": {},
   "outputs": [],
   "source": [
    "sc_users_who_did_not_use_sc = sc_users_df[sc_users_df[\"liquidity_provider\"].isin(non_sc_users)].copy()"
   ]
  },
  {
   "cell_type": "code",
   "execution_count": 23,
   "metadata": {},
   "outputs": [],
   "source": [
    "# SC users who used sc and non sc at the same time?\n",
    "test_outcome = sc_users_who_did_not_use_sc.groupby([\"liquidity_provider\", \"week_date\"])[\"sc_flag\"].mean().reset_index()"
   ]
  },
  {
   "cell_type": "code",
   "execution_count": 26,
   "metadata": {},
   "outputs": [
    {
     "data": {
      "text/plain": [
       "560"
      ]
     },
     "execution_count": 26,
     "metadata": {},
     "output_type": "execute_result"
    }
   ],
   "source": [
    "len(intersection)"
   ]
  },
  {
   "cell_type": "code",
   "execution_count": 57,
   "metadata": {},
   "outputs": [],
   "source": [
    "import numpy as np\n",
    "filtered_df = df[df[\"liquidity_provider\"].isin(intersection)].copy()\n",
    "filtered_df[\"amount_last_sc\"] = 0\n",
    "filtered_df[\"amount_last_sc\"] = filtered_df[\"amount_last_sc\"].where(filtered_df[\"sc_flag\"]==0, filtered_df[\"amount_last_x\"])\n",
    "filtered_df[\"overall_roi_manual\"] = np.nan\n",
    "filtered_df[\"overall_roi_manual\"] = filtered_df[\"overall_roi_manual\"].where(filtered_df[\"sc_flag\"]==1, filtered_df[\"overall_roi\"])\n",
    "filtered_df[\"soph_manual\"] = np.nan\n",
    "filtered_df[\"soph_manual\"] = filtered_df[\"soph_manual\"].where(filtered_df[\"sc_flag\"]==1, filtered_df[\"soph\"])\n",
    "filtered_df[\"soph_sc\"] = np.nan\n",
    "filtered_df[\"soph_sc\"] = filtered_df[\"soph_sc\"].where(filtered_df[\"sc_flag\"]==0, filtered_df[\"soph\"])"
   ]
  },
  {
   "cell_type": "code",
   "execution_count": 78,
   "metadata": {},
   "outputs": [],
   "source": [
    "import numpy as np\n",
    "filtered_df = df.copy()\n",
    "filtered_df[\"amount_last_sc\"] = 0\n",
    "filtered_df[\"amount_last_sc\"] = filtered_df[\"amount_last_sc\"].where(filtered_df[\"sc_flag\"]==0, filtered_df[\"amount_last_x\"])\n",
    "filtered_df[\"overall_roi_manual\"] = np.nan\n",
    "filtered_df[\"overall_roi_manual\"] = filtered_df[\"overall_roi_manual\"].where(filtered_df[\"sc_flag\"]==1, filtered_df[\"overall_roi\"])\n",
    "filtered_df[\"fee_roi_manual\"] = np.nan\n",
    "filtered_df[\"fee_roi_manual\"] = filtered_df[\"fee_roi_manual\"].where(filtered_df[\"sc_flag\"]==1, filtered_df[\"fee_roi\"])\n",
    "filtered_df[\"overall_roi_sc\"] = np.nan\n",
    "filtered_df[\"overall_roi_sc\"] = filtered_df[\"overall_roi_sc\"].where(filtered_df[\"sc_flag\"]==0, filtered_df[\"overall_roi\"])\n",
    "filtered_df[\"fee_roi_sc\"] = np.nan\n",
    "filtered_df[\"fee_roi_sc\"] = filtered_df[\"fee_roi_sc\"].where(filtered_df[\"sc_flag\"]==0, filtered_df[\"fee_roi\"])\n",
    "filtered_df[\"soph_manual\"] = np.nan\n",
    "filtered_df[\"soph_manual\"] = filtered_df[\"soph_manual\"].where(filtered_df[\"sc_flag\"]==1, filtered_df[\"soph\"])\n",
    "filtered_df[\"soph_sc\"] = np.nan\n",
    "filtered_df[\"soph_sc\"] = filtered_df[\"soph_sc\"].where(filtered_df[\"sc_flag\"]==0, filtered_df[\"soph\"])"
   ]
  },
  {
   "cell_type": "code",
   "execution_count": 79,
   "metadata": {},
   "outputs": [],
   "source": [
    "sc_usage = filtered_df.groupby([\"liquidity_provider\", 'pool_address', \"week_date\"]).agg(\n",
    "    sc_usage = (\"sc_flag\", \"mean\"),\n",
    "    total_aum = (\"amount_last_x\", \"sum\"),\n",
    "    total_aum_sc = (\"amount_last_sc\", \"sum\"),\n",
    "    opp_flag_sum = (\"opp_flag\", \"sum\"),\n",
    "    overall_roi_manual_avg = (\"overall_roi_manual\", \"mean\"),\n",
    "    fee_roi_manual_avg = (\"fee_roi_manual\", \"mean\"),\n",
    "    soph_manual_avg = (\"soph_manual\", \"mean\"),\n",
    "    soph_sc_avg = (\"soph_sc\", \"mean\"),\n",
    "    overall_roi_sc_avg = (\"overall_roi_sc\", \"mean\"),\n",
    "    fee_roi_sc_avg = (\"fee_roi_sc\", \"mean\")\n",
    ").reset_index()"
   ]
  },
  {
   "cell_type": "code",
   "execution_count": 80,
   "metadata": {},
   "outputs": [],
   "source": [
    "sc_usage.to_csv(\"C:/Users/zxz170017/Downloads/20241014_sc_usage_test2.csv\", index=False)"
   ]
  },
  {
   "cell_type": "code",
   "execution_count": 62,
   "metadata": {},
   "outputs": [
    {
     "data": {
      "text/plain": [
       "count    2.741500e+04\n",
       "mean     1.783424e+05\n",
       "std      1.960908e+06\n",
       "min      1.000255e+01\n",
       "25%      1.124601e+02\n",
       "50%      8.853854e+02\n",
       "75%      1.423325e+04\n",
       "max      7.913576e+07\n",
       "Name: total_aum, dtype: float64"
      ]
     },
     "execution_count": 62,
     "metadata": {},
     "output_type": "execute_result"
    }
   ],
   "source": [
    "sc_usage[\"total_aum\"].describe()"
   ]
  },
  {
   "cell_type": "code",
   "execution_count": null,
   "metadata": {},
   "outputs": [],
   "source": []
  }
 ],
 "metadata": {
  "kernelspec": {
   "display_name": "uniswap_data_processing",
   "language": "python",
   "name": "python3"
  },
  "language_info": {
   "codemirror_mode": {
    "name": "ipython",
    "version": 3
   },
   "file_extension": ".py",
   "mimetype": "text/x-python",
   "name": "python",
   "nbconvert_exporter": "python",
   "pygments_lexer": "ipython3",
   "version": "3.10.4"
  }
 },
 "nbformat": 4,
 "nbformat_minor": 2
}
