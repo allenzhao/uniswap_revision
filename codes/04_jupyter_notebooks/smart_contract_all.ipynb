{
 "cells": [
  {
   "metadata": {
    "ExecuteTime": {
     "end_time": "2024-05-29T23:22:18.112324Z",
     "start_time": "2024-05-29T23:22:18.098206Z"
    }
   },
   "cell_type": "code",
   "source": [
    "import pandas as pd\n",
    "import numpy as np\n",
    "import seaborn as sns\n",
    "from scipy.stats import mstats\n",
    "import matplotlib.pyplot as plt"
   ],
   "id": "17169a4e6ea0ec23",
   "outputs": [],
   "execution_count": 1
  },
  {
   "metadata": {
    "ExecuteTime": {
     "end_time": "2024-05-29T23:22:18.363116Z",
     "start_time": "2024-05-29T23:22:18.114206Z"
    }
   },
   "cell_type": "code",
   "source": [
    "sc_daily_obs_df = pd.read_pickle(\"../01_create/sc_only_daily_obs_20240130.pkl\")\n",
    "sc_daily_obs_df[\"week\"] = pd.to_datetime(sc_daily_obs_df[\"date\"]).dt.to_period('W-SAT').dt.start_time\n",
    "sc_daily_obs_df.sort_values(by=[\"pool_address\",\"position_id\", \"date\"], inplace=True)\n",
    "nft_type_mapping = sc_daily_obs_df[[\"pool_address\", \"nf_position_manager_address\",\"is_verified_sc\"]].drop_duplicates()"
   ],
   "id": "initial_id",
   "outputs": [],
   "execution_count": 2
  },
  {
   "metadata": {
    "ExecuteTime": {
     "end_time": "2024-05-29T23:22:18.378964Z",
     "start_time": "2024-05-29T23:22:18.365131Z"
    }
   },
   "cell_type": "code",
   "source": "unique_nft_managers = nft_type_mapping[\"nf_position_manager_address\"].unique()",
   "id": "2925624e48a85ec4",
   "outputs": [],
   "execution_count": 3
  },
  {
   "metadata": {
    "ExecuteTime": {
     "end_time": "2024-05-29T23:22:18.394157Z",
     "start_time": "2024-05-29T23:22:18.380965Z"
    }
   },
   "cell_type": "code",
   "source": "nft_type_mapping.to_csv(\"unique_nft_managers.csv\")",
   "id": "b461036b86107318",
   "outputs": [],
   "execution_count": 4
  },
  {
   "metadata": {
    "ExecuteTime": {
     "end_time": "2024-05-29T23:22:18.409780Z",
     "start_time": "2024-05-29T23:22:18.396682Z"
    }
   },
   "cell_type": "code",
   "source": "weekly_agg_prices = pd.read_csv(\"weekly_agg_0411.csv\") ",
   "id": "6c181369d50d0826",
   "outputs": [],
   "execution_count": 5
  },
  {
   "metadata": {
    "ExecuteTime": {
     "end_time": "2024-05-29T23:22:24.525032Z",
     "start_time": "2024-05-29T23:22:18.907127Z"
    }
   },
   "cell_type": "code",
   "source": [
    "# read in the original data (pool action information)\n",
    "pool_addrs = ['0x11b815efb8f581194ae79006d24e0d814b7697f6',\n",
    "              '0x4e68ccd3e89f51c3074ca5072bbac773960dfa36',\n",
    "              '0x88e6a0c2ddd26feeb64f039a2c41296fcb3f5640',\n",
    "              '0x8ad599c3a0ff1de082011efddc58f1908eb6e6d8']\n",
    "pool_action_infos = pd.DataFrame()\n",
    "for pool_addr in pool_addrs:\n",
    "    pool_action_info = pd.read_csv(\"../../data/raw/lp_data/\" + pool_addr + \"_fixed.csv\", low_memory=False)\n",
    "    pool_action_infos = pd.concat([pool_action_infos, pool_action_info], ignore_index=True)"
   ],
   "id": "5c0231630f4d5a09",
   "outputs": [],
   "execution_count": 6
  },
  {
   "metadata": {
    "ExecuteTime": {
     "end_time": "2024-05-29T23:22:24.806802Z",
     "start_time": "2024-05-29T23:22:24.527038Z"
    }
   },
   "cell_type": "code",
   "source": [
    "sc_nf_positions = sc_daily_obs_df[\"nf_position_manager_address\"].unique()\n",
    "pool_action_info_sc = pool_action_infos[pool_action_infos[\"nf_position_manager_address\"].isin(sc_nf_positions)].copy()\n",
    "pool_action_info_sc[\"week\"] = pd.to_datetime(pool_action_info_sc[\"block_timestamp\"]).dt.to_period('W-SAT').dt.start_time"
   ],
   "id": "23326ac1469724b0",
   "outputs": [],
   "execution_count": 7
  },
  {
   "metadata": {
    "ExecuteTime": {
     "end_time": "2024-05-29T23:22:24.838396Z",
     "start_time": "2024-05-29T23:22:24.808750Z"
    }
   },
   "cell_type": "code",
   "source": "pool_action_info_sc.head(10)",
   "id": "548670ce4512a597",
   "outputs": [
    {
     "data": {
      "text/plain": [
       "      blockchain  block_number          block_timestamp  \\\n",
       "10025   ethereum      15128157  2022-07-12 13:46:55.000   \n",
       "10026   ethereum      15128157  2022-07-12 13:46:55.000   \n",
       "10027   ethereum      15128157  2022-07-12 13:46:55.000   \n",
       "10028   ethereum      14769371  2022-05-13 19:56:09.000   \n",
       "10029   ethereum      14769371  2022-05-13 19:56:09.000   \n",
       "10030   ethereum      14769371  2022-05-13 19:56:09.000   \n",
       "10031   ethereum      14054181  2022-01-22 07:54:28.000   \n",
       "10032   ethereum      14054181  2022-01-22 07:54:28.000   \n",
       "10033   ethereum      14054181  2022-01-22 07:54:28.000   \n",
       "10034   ethereum      14057266  2022-01-22 19:24:43.000   \n",
       "\n",
       "                                                 tx_hash              action  \\\n",
       "10025  0x1d6611077fbfd8d54192fa8733c66e77cedfe0e90566...  INCREASE_LIQUIDITY   \n",
       "10026  0x1d6611077fbfd8d54192fa8733c66e77cedfe0e90566...  DECREASE_LIQUIDITY   \n",
       "10027  0x1d6611077fbfd8d54192fa8733c66e77cedfe0e90566...  DECREASE_LIQUIDITY   \n",
       "10028  0x77588092e039ba7b4797161a81d20c418a7e5fc7d132...  DECREASE_LIQUIDITY   \n",
       "10029  0x77588092e039ba7b4797161a81d20c418a7e5fc7d132...  INCREASE_LIQUIDITY   \n",
       "10030  0x77588092e039ba7b4797161a81d20c418a7e5fc7d132...  INCREASE_LIQUIDITY   \n",
       "10031  0xb898083c01800488533cb3eaf9d308060016a43d004c...  DECREASE_LIQUIDITY   \n",
       "10032  0xb898083c01800488533cb3eaf9d308060016a43d004c...  INCREASE_LIQUIDITY   \n",
       "10033  0xb898083c01800488533cb3eaf9d308060016a43d004c...  DECREASE_LIQUIDITY   \n",
       "10034  0xccf38d3f3c9a747967d710b3f3268ca8e3343b451306...  DECREASE_LIQUIDITY   \n",
       "\n",
       "       amount0_adjusted  amount1_adjusted    amount0_usd    amount1_usd  \\\n",
       "10025          0.034108         31.330926      36.604615      31.305773   \n",
       "10026          1.463823       1344.639859    1570.972578    1343.560369   \n",
       "10027          0.000000          0.000000       0.000000       0.000000   \n",
       "10028          0.000000          0.000000       0.000000       0.000000   \n",
       "10029          0.298955        907.252151     615.789335     906.735017   \n",
       "10030          0.134223        407.333488     276.473985     407.101308   \n",
       "10031          0.000000          0.000000       0.000000       0.000000   \n",
       "10032        226.426394     240898.363253  559887.216297  241017.925225   \n",
       "10033        258.076548     162296.125222  638148.927022  162376.675561   \n",
       "10034          0.000000          0.000000       0.000000       0.000000   \n",
       "\n",
       "                                   token0_address  ... price_lower_1_0_usd  \\\n",
       "10025  0xc02aaa39b223fe8d0a0e5c4f27ead9083c756cc2  ...          474.988841   \n",
       "10026  0xc02aaa39b223fe8d0a0e5c4f27ead9083c756cc2  ...          474.988841   \n",
       "10027  0xc02aaa39b223fe8d0a0e5c4f27ead9083c756cc2  ...          474.988841   \n",
       "10028  0xc02aaa39b223fe8d0a0e5c4f27ead9083c756cc2  ...         1710.361851   \n",
       "10029  0xc02aaa39b223fe8d0a0e5c4f27ead9083c756cc2  ...         1710.361851   \n",
       "10030  0xc02aaa39b223fe8d0a0e5c4f27ead9083c756cc2  ...         1710.361851   \n",
       "10031  0xc02aaa39b223fe8d0a0e5c4f27ead9083c756cc2  ...         2185.313102   \n",
       "10032  0xc02aaa39b223fe8d0a0e5c4f27ead9083c756cc2  ...         2122.852205   \n",
       "10033  0xc02aaa39b223fe8d0a0e5c4f27ead9083c756cc2  ...         2185.313102   \n",
       "10034  0xc02aaa39b223fe8d0a0e5c4f27ead9083c756cc2  ...         2010.266037   \n",
       "\n",
       "      price_upper_1_0_usd price_lower_0_1_usd  price_upper_0_1_usd    tx_fee  \\\n",
       "10025         2890.546947            0.370981             2.257604  0.009175   \n",
       "10026         2890.546947            0.370981             2.257604  0.009175   \n",
       "10027         2890.546947            0.370981             2.257604  0.009175   \n",
       "10028         2334.247124            0.881926             1.203624  0.026392   \n",
       "10029         2334.247124            0.881926             1.203624  0.026392   \n",
       "10030         2334.247124            0.881926             1.203624  0.026392   \n",
       "10031         4232.217412            0.584549             1.132075  0.107516   \n",
       "10032         3567.034635            0.693556             1.165384  0.107516   \n",
       "10033         4232.217412            0.584549             1.132075  0.107516   \n",
       "10034         4150.508358            0.582960             1.203612  0.120594   \n",
       "\n",
       "                                     from_address  \\\n",
       "10025  0xa89a0e0906b2ce755f939572d698a1af29fc6c21   \n",
       "10026  0xa89a0e0906b2ce755f939572d698a1af29fc6c21   \n",
       "10027  0xa89a0e0906b2ce755f939572d698a1af29fc6c21   \n",
       "10028  0xf6ada09f201691a5372ec2bb31e00d86c65fd0e2   \n",
       "10029  0xf6ada09f201691a5372ec2bb31e00d86c65fd0e2   \n",
       "10030  0xf6ada09f201691a5372ec2bb31e00d86c65fd0e2   \n",
       "10031  0x027e54dcc0c3e34b8c4f0a1932aa81a0fe22645e   \n",
       "10032  0x027e54dcc0c3e34b8c4f0a1932aa81a0fe22645e   \n",
       "10033  0x027e54dcc0c3e34b8c4f0a1932aa81a0fe22645e   \n",
       "10034  0x027e54dcc0c3e34b8c4f0a1932aa81a0fe22645e   \n",
       "\n",
       "                                       to_address token_id Unnamed: 0  \\\n",
       "10025  0x12cc705bdd9ff7cd3bcddafe1cabfce9a182aa22     -1.0        NaN   \n",
       "10026  0x12cc705bdd9ff7cd3bcddafe1cabfce9a182aa22     -1.0        NaN   \n",
       "10027  0x12cc705bdd9ff7cd3bcddafe1cabfce9a182aa22     -1.0        NaN   \n",
       "10028  0x34e9e83608790e91ebd14f0f84da35bb21cbd3f5     -1.0        NaN   \n",
       "10029  0x34e9e83608790e91ebd14f0f84da35bb21cbd3f5     -1.0        NaN   \n",
       "10030  0x34e9e83608790e91ebd14f0f84da35bb21cbd3f5     -1.0        NaN   \n",
       "10031  0x8d8b490fce6ca1a31752e7cfafa954bf30eb7ee2     -1.0        NaN   \n",
       "10032  0x8d8b490fce6ca1a31752e7cfafa954bf30eb7ee2     -1.0        NaN   \n",
       "10033  0x8d8b490fce6ca1a31752e7cfafa954bf30eb7ee2     -1.0        NaN   \n",
       "10034  0x8d8b490fce6ca1a31752e7cfafa954bf30eb7ee2     -1.0        NaN   \n",
       "\n",
       "            week  \n",
       "10025 2022-07-10  \n",
       "10026 2022-07-10  \n",
       "10027 2022-07-10  \n",
       "10028 2022-05-08  \n",
       "10029 2022-05-08  \n",
       "10030 2022-05-08  \n",
       "10031 2022-01-16  \n",
       "10032 2022-01-16  \n",
       "10033 2022-01-16  \n",
       "10034 2022-01-16  \n",
       "\n",
       "[10 rows x 38 columns]"
      ],
      "text/html": [
       "<div>\n",
       "<style scoped>\n",
       "    .dataframe tbody tr th:only-of-type {\n",
       "        vertical-align: middle;\n",
       "    }\n",
       "\n",
       "    .dataframe tbody tr th {\n",
       "        vertical-align: top;\n",
       "    }\n",
       "\n",
       "    .dataframe thead th {\n",
       "        text-align: right;\n",
       "    }\n",
       "</style>\n",
       "<table border=\"1\" class=\"dataframe\">\n",
       "  <thead>\n",
       "    <tr style=\"text-align: right;\">\n",
       "      <th></th>\n",
       "      <th>blockchain</th>\n",
       "      <th>block_number</th>\n",
       "      <th>block_timestamp</th>\n",
       "      <th>tx_hash</th>\n",
       "      <th>action</th>\n",
       "      <th>amount0_adjusted</th>\n",
       "      <th>amount1_adjusted</th>\n",
       "      <th>amount0_usd</th>\n",
       "      <th>amount1_usd</th>\n",
       "      <th>token0_address</th>\n",
       "      <th>...</th>\n",
       "      <th>price_lower_1_0_usd</th>\n",
       "      <th>price_upper_1_0_usd</th>\n",
       "      <th>price_lower_0_1_usd</th>\n",
       "      <th>price_upper_0_1_usd</th>\n",
       "      <th>tx_fee</th>\n",
       "      <th>from_address</th>\n",
       "      <th>to_address</th>\n",
       "      <th>token_id</th>\n",
       "      <th>Unnamed: 0</th>\n",
       "      <th>week</th>\n",
       "    </tr>\n",
       "  </thead>\n",
       "  <tbody>\n",
       "    <tr>\n",
       "      <th>10025</th>\n",
       "      <td>ethereum</td>\n",
       "      <td>15128157</td>\n",
       "      <td>2022-07-12 13:46:55.000</td>\n",
       "      <td>0x1d6611077fbfd8d54192fa8733c66e77cedfe0e90566...</td>\n",
       "      <td>INCREASE_LIQUIDITY</td>\n",
       "      <td>0.034108</td>\n",
       "      <td>31.330926</td>\n",
       "      <td>36.604615</td>\n",
       "      <td>31.305773</td>\n",
       "      <td>0xc02aaa39b223fe8d0a0e5c4f27ead9083c756cc2</td>\n",
       "      <td>...</td>\n",
       "      <td>474.988841</td>\n",
       "      <td>2890.546947</td>\n",
       "      <td>0.370981</td>\n",
       "      <td>2.257604</td>\n",
       "      <td>0.009175</td>\n",
       "      <td>0xa89a0e0906b2ce755f939572d698a1af29fc6c21</td>\n",
       "      <td>0x12cc705bdd9ff7cd3bcddafe1cabfce9a182aa22</td>\n",
       "      <td>-1.0</td>\n",
       "      <td>NaN</td>\n",
       "      <td>2022-07-10</td>\n",
       "    </tr>\n",
       "    <tr>\n",
       "      <th>10026</th>\n",
       "      <td>ethereum</td>\n",
       "      <td>15128157</td>\n",
       "      <td>2022-07-12 13:46:55.000</td>\n",
       "      <td>0x1d6611077fbfd8d54192fa8733c66e77cedfe0e90566...</td>\n",
       "      <td>DECREASE_LIQUIDITY</td>\n",
       "      <td>1.463823</td>\n",
       "      <td>1344.639859</td>\n",
       "      <td>1570.972578</td>\n",
       "      <td>1343.560369</td>\n",
       "      <td>0xc02aaa39b223fe8d0a0e5c4f27ead9083c756cc2</td>\n",
       "      <td>...</td>\n",
       "      <td>474.988841</td>\n",
       "      <td>2890.546947</td>\n",
       "      <td>0.370981</td>\n",
       "      <td>2.257604</td>\n",
       "      <td>0.009175</td>\n",
       "      <td>0xa89a0e0906b2ce755f939572d698a1af29fc6c21</td>\n",
       "      <td>0x12cc705bdd9ff7cd3bcddafe1cabfce9a182aa22</td>\n",
       "      <td>-1.0</td>\n",
       "      <td>NaN</td>\n",
       "      <td>2022-07-10</td>\n",
       "    </tr>\n",
       "    <tr>\n",
       "      <th>10027</th>\n",
       "      <td>ethereum</td>\n",
       "      <td>15128157</td>\n",
       "      <td>2022-07-12 13:46:55.000</td>\n",
       "      <td>0x1d6611077fbfd8d54192fa8733c66e77cedfe0e90566...</td>\n",
       "      <td>DECREASE_LIQUIDITY</td>\n",
       "      <td>0.000000</td>\n",
       "      <td>0.000000</td>\n",
       "      <td>0.000000</td>\n",
       "      <td>0.000000</td>\n",
       "      <td>0xc02aaa39b223fe8d0a0e5c4f27ead9083c756cc2</td>\n",
       "      <td>...</td>\n",
       "      <td>474.988841</td>\n",
       "      <td>2890.546947</td>\n",
       "      <td>0.370981</td>\n",
       "      <td>2.257604</td>\n",
       "      <td>0.009175</td>\n",
       "      <td>0xa89a0e0906b2ce755f939572d698a1af29fc6c21</td>\n",
       "      <td>0x12cc705bdd9ff7cd3bcddafe1cabfce9a182aa22</td>\n",
       "      <td>-1.0</td>\n",
       "      <td>NaN</td>\n",
       "      <td>2022-07-10</td>\n",
       "    </tr>\n",
       "    <tr>\n",
       "      <th>10028</th>\n",
       "      <td>ethereum</td>\n",
       "      <td>14769371</td>\n",
       "      <td>2022-05-13 19:56:09.000</td>\n",
       "      <td>0x77588092e039ba7b4797161a81d20c418a7e5fc7d132...</td>\n",
       "      <td>DECREASE_LIQUIDITY</td>\n",
       "      <td>0.000000</td>\n",
       "      <td>0.000000</td>\n",
       "      <td>0.000000</td>\n",
       "      <td>0.000000</td>\n",
       "      <td>0xc02aaa39b223fe8d0a0e5c4f27ead9083c756cc2</td>\n",
       "      <td>...</td>\n",
       "      <td>1710.361851</td>\n",
       "      <td>2334.247124</td>\n",
       "      <td>0.881926</td>\n",
       "      <td>1.203624</td>\n",
       "      <td>0.026392</td>\n",
       "      <td>0xf6ada09f201691a5372ec2bb31e00d86c65fd0e2</td>\n",
       "      <td>0x34e9e83608790e91ebd14f0f84da35bb21cbd3f5</td>\n",
       "      <td>-1.0</td>\n",
       "      <td>NaN</td>\n",
       "      <td>2022-05-08</td>\n",
       "    </tr>\n",
       "    <tr>\n",
       "      <th>10029</th>\n",
       "      <td>ethereum</td>\n",
       "      <td>14769371</td>\n",
       "      <td>2022-05-13 19:56:09.000</td>\n",
       "      <td>0x77588092e039ba7b4797161a81d20c418a7e5fc7d132...</td>\n",
       "      <td>INCREASE_LIQUIDITY</td>\n",
       "      <td>0.298955</td>\n",
       "      <td>907.252151</td>\n",
       "      <td>615.789335</td>\n",
       "      <td>906.735017</td>\n",
       "      <td>0xc02aaa39b223fe8d0a0e5c4f27ead9083c756cc2</td>\n",
       "      <td>...</td>\n",
       "      <td>1710.361851</td>\n",
       "      <td>2334.247124</td>\n",
       "      <td>0.881926</td>\n",
       "      <td>1.203624</td>\n",
       "      <td>0.026392</td>\n",
       "      <td>0xf6ada09f201691a5372ec2bb31e00d86c65fd0e2</td>\n",
       "      <td>0x34e9e83608790e91ebd14f0f84da35bb21cbd3f5</td>\n",
       "      <td>-1.0</td>\n",
       "      <td>NaN</td>\n",
       "      <td>2022-05-08</td>\n",
       "    </tr>\n",
       "    <tr>\n",
       "      <th>10030</th>\n",
       "      <td>ethereum</td>\n",
       "      <td>14769371</td>\n",
       "      <td>2022-05-13 19:56:09.000</td>\n",
       "      <td>0x77588092e039ba7b4797161a81d20c418a7e5fc7d132...</td>\n",
       "      <td>INCREASE_LIQUIDITY</td>\n",
       "      <td>0.134223</td>\n",
       "      <td>407.333488</td>\n",
       "      <td>276.473985</td>\n",
       "      <td>407.101308</td>\n",
       "      <td>0xc02aaa39b223fe8d0a0e5c4f27ead9083c756cc2</td>\n",
       "      <td>...</td>\n",
       "      <td>1710.361851</td>\n",
       "      <td>2334.247124</td>\n",
       "      <td>0.881926</td>\n",
       "      <td>1.203624</td>\n",
       "      <td>0.026392</td>\n",
       "      <td>0xf6ada09f201691a5372ec2bb31e00d86c65fd0e2</td>\n",
       "      <td>0x34e9e83608790e91ebd14f0f84da35bb21cbd3f5</td>\n",
       "      <td>-1.0</td>\n",
       "      <td>NaN</td>\n",
       "      <td>2022-05-08</td>\n",
       "    </tr>\n",
       "    <tr>\n",
       "      <th>10031</th>\n",
       "      <td>ethereum</td>\n",
       "      <td>14054181</td>\n",
       "      <td>2022-01-22 07:54:28.000</td>\n",
       "      <td>0xb898083c01800488533cb3eaf9d308060016a43d004c...</td>\n",
       "      <td>DECREASE_LIQUIDITY</td>\n",
       "      <td>0.000000</td>\n",
       "      <td>0.000000</td>\n",
       "      <td>0.000000</td>\n",
       "      <td>0.000000</td>\n",
       "      <td>0xc02aaa39b223fe8d0a0e5c4f27ead9083c756cc2</td>\n",
       "      <td>...</td>\n",
       "      <td>2185.313102</td>\n",
       "      <td>4232.217412</td>\n",
       "      <td>0.584549</td>\n",
       "      <td>1.132075</td>\n",
       "      <td>0.107516</td>\n",
       "      <td>0x027e54dcc0c3e34b8c4f0a1932aa81a0fe22645e</td>\n",
       "      <td>0x8d8b490fce6ca1a31752e7cfafa954bf30eb7ee2</td>\n",
       "      <td>-1.0</td>\n",
       "      <td>NaN</td>\n",
       "      <td>2022-01-16</td>\n",
       "    </tr>\n",
       "    <tr>\n",
       "      <th>10032</th>\n",
       "      <td>ethereum</td>\n",
       "      <td>14054181</td>\n",
       "      <td>2022-01-22 07:54:28.000</td>\n",
       "      <td>0xb898083c01800488533cb3eaf9d308060016a43d004c...</td>\n",
       "      <td>INCREASE_LIQUIDITY</td>\n",
       "      <td>226.426394</td>\n",
       "      <td>240898.363253</td>\n",
       "      <td>559887.216297</td>\n",
       "      <td>241017.925225</td>\n",
       "      <td>0xc02aaa39b223fe8d0a0e5c4f27ead9083c756cc2</td>\n",
       "      <td>...</td>\n",
       "      <td>2122.852205</td>\n",
       "      <td>3567.034635</td>\n",
       "      <td>0.693556</td>\n",
       "      <td>1.165384</td>\n",
       "      <td>0.107516</td>\n",
       "      <td>0x027e54dcc0c3e34b8c4f0a1932aa81a0fe22645e</td>\n",
       "      <td>0x8d8b490fce6ca1a31752e7cfafa954bf30eb7ee2</td>\n",
       "      <td>-1.0</td>\n",
       "      <td>NaN</td>\n",
       "      <td>2022-01-16</td>\n",
       "    </tr>\n",
       "    <tr>\n",
       "      <th>10033</th>\n",
       "      <td>ethereum</td>\n",
       "      <td>14054181</td>\n",
       "      <td>2022-01-22 07:54:28.000</td>\n",
       "      <td>0xb898083c01800488533cb3eaf9d308060016a43d004c...</td>\n",
       "      <td>DECREASE_LIQUIDITY</td>\n",
       "      <td>258.076548</td>\n",
       "      <td>162296.125222</td>\n",
       "      <td>638148.927022</td>\n",
       "      <td>162376.675561</td>\n",
       "      <td>0xc02aaa39b223fe8d0a0e5c4f27ead9083c756cc2</td>\n",
       "      <td>...</td>\n",
       "      <td>2185.313102</td>\n",
       "      <td>4232.217412</td>\n",
       "      <td>0.584549</td>\n",
       "      <td>1.132075</td>\n",
       "      <td>0.107516</td>\n",
       "      <td>0x027e54dcc0c3e34b8c4f0a1932aa81a0fe22645e</td>\n",
       "      <td>0x8d8b490fce6ca1a31752e7cfafa954bf30eb7ee2</td>\n",
       "      <td>-1.0</td>\n",
       "      <td>NaN</td>\n",
       "      <td>2022-01-16</td>\n",
       "    </tr>\n",
       "    <tr>\n",
       "      <th>10034</th>\n",
       "      <td>ethereum</td>\n",
       "      <td>14057266</td>\n",
       "      <td>2022-01-22 19:24:43.000</td>\n",
       "      <td>0xccf38d3f3c9a747967d710b3f3268ca8e3343b451306...</td>\n",
       "      <td>DECREASE_LIQUIDITY</td>\n",
       "      <td>0.000000</td>\n",
       "      <td>0.000000</td>\n",
       "      <td>0.000000</td>\n",
       "      <td>0.000000</td>\n",
       "      <td>0xc02aaa39b223fe8d0a0e5c4f27ead9083c756cc2</td>\n",
       "      <td>...</td>\n",
       "      <td>2010.266037</td>\n",
       "      <td>4150.508358</td>\n",
       "      <td>0.582960</td>\n",
       "      <td>1.203612</td>\n",
       "      <td>0.120594</td>\n",
       "      <td>0x027e54dcc0c3e34b8c4f0a1932aa81a0fe22645e</td>\n",
       "      <td>0x8d8b490fce6ca1a31752e7cfafa954bf30eb7ee2</td>\n",
       "      <td>-1.0</td>\n",
       "      <td>NaN</td>\n",
       "      <td>2022-01-16</td>\n",
       "    </tr>\n",
       "  </tbody>\n",
       "</table>\n",
       "<p>10 rows × 38 columns</p>\n",
       "</div>"
      ]
     },
     "execution_count": 8,
     "metadata": {},
     "output_type": "execute_result"
    }
   ],
   "execution_count": 8
  },
  {
   "metadata": {
    "ExecuteTime": {
     "end_time": "2024-05-29T23:22:24.854482Z",
     "start_time": "2024-05-29T23:22:24.840402Z"
    }
   },
   "cell_type": "code",
   "source": "verification_dates = pd.read_csv(\"verification_dates_copy.csv\")",
   "id": "d93447b6492f3d1e",
   "outputs": [],
   "execution_count": 9
  },
  {
   "metadata": {
    "ExecuteTime": {
     "end_time": "2024-05-29T23:22:24.869948Z",
     "start_time": "2024-05-29T23:22:24.855403Z"
    }
   },
   "cell_type": "code",
   "source": "verification_dates.head(10)",
   "id": "d56d4ebb701c5817",
   "outputs": [
    {
     "data": {
      "text/plain": [
       "                                 pool_address  \\\n",
       "0  0x11b815efb8f581194ae79006d24e0d814b7697f6   \n",
       "1  0x11b815efb8f581194ae79006d24e0d814b7697f6   \n",
       "2  0x11b815efb8f581194ae79006d24e0d814b7697f6   \n",
       "3  0x11b815efb8f581194ae79006d24e0d814b7697f6   \n",
       "4  0x11b815efb8f581194ae79006d24e0d814b7697f6   \n",
       "5  0x11b815efb8f581194ae79006d24e0d814b7697f6   \n",
       "6  0x11b815efb8f581194ae79006d24e0d814b7697f6   \n",
       "7  0x11b815efb8f581194ae79006d24e0d814b7697f6   \n",
       "8  0x11b815efb8f581194ae79006d24e0d814b7697f6   \n",
       "9  0x11b815efb8f581194ae79006d24e0d814b7697f6   \n",
       "\n",
       "                  nf_position_manager_address  is_half_verified  \\\n",
       "0  0x12cc705bdd9ff7cd3bcddafe1cabfce9a182aa22             False   \n",
       "1  0x4ef5947b7c8904c5a4094361c00b7f9421602e7b             False   \n",
       "2  0x7caec5e4a3906d0919895d113f7ed9b3a0cbf826             False   \n",
       "3  0x8d8b490fce6ca1a31752e7cfafa954bf30eb7ee2             False   \n",
       "4  0x98d149e227c75d38f623a9aa9f030fb222b3faa3             False   \n",
       "5  0xa462dec96a8e33549598b9ab28d51d6864faf91c             False   \n",
       "6  0xa6e8d91f7ccd8c2102e94679c3ecc2b3e71df49d             False   \n",
       "7  0xa7979d0592ecfc59b082552828ff36209ec94b11             False   \n",
       "8  0xae5bf69e3bb01374a8d9b794d81146a228565996             False   \n",
       "9  0xc2f256382db296244420746d82b5895ec284c9e6             False   \n",
       "\n",
       "   is_verified_sc Date_Verified            Contract_Name  \\\n",
       "0            True    31/03/2022      UnipilotActiveVault   \n",
       "1           False           NaN                      NaN   \n",
       "2           False           NaN                      NaN   \n",
       "3            True    04/11/2021      PopsicleV3Optimizer   \n",
       "4            True    27/06/2021          SorbettoFragola   \n",
       "5            True    18/07/2021             HotPotV2Fund   \n",
       "6            True    16/10/2021      PopsicleV3Optimizer   \n",
       "7            True    19/11/2021  UniswapLiquidityManager   \n",
       "8            True    18/01/2022             HotPotV3Fund   \n",
       "9            True    31/03/2022      UnipilotActiveVault   \n",
       "\n",
       "  Contract_Token_Enabled              Contract_Token_Name Note  \n",
       "0                   True  Unipilot WETH/USDT Active Vault  NaN  \n",
       "1                   True                  Defi-Plus (DLP)  NaN  \n",
       "2                    NaN                              NaN  NaN  \n",
       "3                   True         Popsicle LP V3 WETH/USDT  NaN  \n",
       "4                   True         Popsicle LP V3 USDT/WETH  NaN  \n",
       "5                   True               Hotpot V2 (HPT-V2)  NaN  \n",
       "6                   True         Popsicle LP V3 WETH/USDT  NaN  \n",
       "7                  False                              NaN  NaN  \n",
       "8                   True               Hotpot V3 (HPT-V3)  NaN  \n",
       "9                   True  Unipilot WETH/USDT Active Vault  NaN  "
      ],
      "text/html": [
       "<div>\n",
       "<style scoped>\n",
       "    .dataframe tbody tr th:only-of-type {\n",
       "        vertical-align: middle;\n",
       "    }\n",
       "\n",
       "    .dataframe tbody tr th {\n",
       "        vertical-align: top;\n",
       "    }\n",
       "\n",
       "    .dataframe thead th {\n",
       "        text-align: right;\n",
       "    }\n",
       "</style>\n",
       "<table border=\"1\" class=\"dataframe\">\n",
       "  <thead>\n",
       "    <tr style=\"text-align: right;\">\n",
       "      <th></th>\n",
       "      <th>pool_address</th>\n",
       "      <th>nf_position_manager_address</th>\n",
       "      <th>is_half_verified</th>\n",
       "      <th>is_verified_sc</th>\n",
       "      <th>Date_Verified</th>\n",
       "      <th>Contract_Name</th>\n",
       "      <th>Contract_Token_Enabled</th>\n",
       "      <th>Contract_Token_Name</th>\n",
       "      <th>Note</th>\n",
       "    </tr>\n",
       "  </thead>\n",
       "  <tbody>\n",
       "    <tr>\n",
       "      <th>0</th>\n",
       "      <td>0x11b815efb8f581194ae79006d24e0d814b7697f6</td>\n",
       "      <td>0x12cc705bdd9ff7cd3bcddafe1cabfce9a182aa22</td>\n",
       "      <td>False</td>\n",
       "      <td>True</td>\n",
       "      <td>31/03/2022</td>\n",
       "      <td>UnipilotActiveVault</td>\n",
       "      <td>True</td>\n",
       "      <td>Unipilot WETH/USDT Active Vault</td>\n",
       "      <td>NaN</td>\n",
       "    </tr>\n",
       "    <tr>\n",
       "      <th>1</th>\n",
       "      <td>0x11b815efb8f581194ae79006d24e0d814b7697f6</td>\n",
       "      <td>0x4ef5947b7c8904c5a4094361c00b7f9421602e7b</td>\n",
       "      <td>False</td>\n",
       "      <td>False</td>\n",
       "      <td>NaN</td>\n",
       "      <td>NaN</td>\n",
       "      <td>True</td>\n",
       "      <td>Defi-Plus (DLP)</td>\n",
       "      <td>NaN</td>\n",
       "    </tr>\n",
       "    <tr>\n",
       "      <th>2</th>\n",
       "      <td>0x11b815efb8f581194ae79006d24e0d814b7697f6</td>\n",
       "      <td>0x7caec5e4a3906d0919895d113f7ed9b3a0cbf826</td>\n",
       "      <td>False</td>\n",
       "      <td>False</td>\n",
       "      <td>NaN</td>\n",
       "      <td>NaN</td>\n",
       "      <td>NaN</td>\n",
       "      <td>NaN</td>\n",
       "      <td>NaN</td>\n",
       "    </tr>\n",
       "    <tr>\n",
       "      <th>3</th>\n",
       "      <td>0x11b815efb8f581194ae79006d24e0d814b7697f6</td>\n",
       "      <td>0x8d8b490fce6ca1a31752e7cfafa954bf30eb7ee2</td>\n",
       "      <td>False</td>\n",
       "      <td>True</td>\n",
       "      <td>04/11/2021</td>\n",
       "      <td>PopsicleV3Optimizer</td>\n",
       "      <td>True</td>\n",
       "      <td>Popsicle LP V3 WETH/USDT</td>\n",
       "      <td>NaN</td>\n",
       "    </tr>\n",
       "    <tr>\n",
       "      <th>4</th>\n",
       "      <td>0x11b815efb8f581194ae79006d24e0d814b7697f6</td>\n",
       "      <td>0x98d149e227c75d38f623a9aa9f030fb222b3faa3</td>\n",
       "      <td>False</td>\n",
       "      <td>True</td>\n",
       "      <td>27/06/2021</td>\n",
       "      <td>SorbettoFragola</td>\n",
       "      <td>True</td>\n",
       "      <td>Popsicle LP V3 USDT/WETH</td>\n",
       "      <td>NaN</td>\n",
       "    </tr>\n",
       "    <tr>\n",
       "      <th>5</th>\n",
       "      <td>0x11b815efb8f581194ae79006d24e0d814b7697f6</td>\n",
       "      <td>0xa462dec96a8e33549598b9ab28d51d6864faf91c</td>\n",
       "      <td>False</td>\n",
       "      <td>True</td>\n",
       "      <td>18/07/2021</td>\n",
       "      <td>HotPotV2Fund</td>\n",
       "      <td>True</td>\n",
       "      <td>Hotpot V2 (HPT-V2)</td>\n",
       "      <td>NaN</td>\n",
       "    </tr>\n",
       "    <tr>\n",
       "      <th>6</th>\n",
       "      <td>0x11b815efb8f581194ae79006d24e0d814b7697f6</td>\n",
       "      <td>0xa6e8d91f7ccd8c2102e94679c3ecc2b3e71df49d</td>\n",
       "      <td>False</td>\n",
       "      <td>True</td>\n",
       "      <td>16/10/2021</td>\n",
       "      <td>PopsicleV3Optimizer</td>\n",
       "      <td>True</td>\n",
       "      <td>Popsicle LP V3 WETH/USDT</td>\n",
       "      <td>NaN</td>\n",
       "    </tr>\n",
       "    <tr>\n",
       "      <th>7</th>\n",
       "      <td>0x11b815efb8f581194ae79006d24e0d814b7697f6</td>\n",
       "      <td>0xa7979d0592ecfc59b082552828ff36209ec94b11</td>\n",
       "      <td>False</td>\n",
       "      <td>True</td>\n",
       "      <td>19/11/2021</td>\n",
       "      <td>UniswapLiquidityManager</td>\n",
       "      <td>False</td>\n",
       "      <td>NaN</td>\n",
       "      <td>NaN</td>\n",
       "    </tr>\n",
       "    <tr>\n",
       "      <th>8</th>\n",
       "      <td>0x11b815efb8f581194ae79006d24e0d814b7697f6</td>\n",
       "      <td>0xae5bf69e3bb01374a8d9b794d81146a228565996</td>\n",
       "      <td>False</td>\n",
       "      <td>True</td>\n",
       "      <td>18/01/2022</td>\n",
       "      <td>HotPotV3Fund</td>\n",
       "      <td>True</td>\n",
       "      <td>Hotpot V3 (HPT-V3)</td>\n",
       "      <td>NaN</td>\n",
       "    </tr>\n",
       "    <tr>\n",
       "      <th>9</th>\n",
       "      <td>0x11b815efb8f581194ae79006d24e0d814b7697f6</td>\n",
       "      <td>0xc2f256382db296244420746d82b5895ec284c9e6</td>\n",
       "      <td>False</td>\n",
       "      <td>True</td>\n",
       "      <td>31/03/2022</td>\n",
       "      <td>UnipilotActiveVault</td>\n",
       "      <td>True</td>\n",
       "      <td>Unipilot WETH/USDT Active Vault</td>\n",
       "      <td>NaN</td>\n",
       "    </tr>\n",
       "  </tbody>\n",
       "</table>\n",
       "</div>"
      ]
     },
     "execution_count": 10,
     "metadata": {},
     "output_type": "execute_result"
    }
   ],
   "execution_count": 10
  },
  {
   "metadata": {
    "ExecuteTime": {
     "end_time": "2024-05-29T23:22:25.043792Z",
     "start_time": "2024-05-29T23:22:24.871948Z"
    }
   },
   "cell_type": "code",
   "source": "pool_action_info_sc.merge(verification_dates, on=[\"pool_address\", \"nf_position_manager_address\"], how='left').columns",
   "id": "d0bfe150f24cd66d",
   "outputs": [
    {
     "data": {
      "text/plain": [
       "Index(['blockchain', 'block_number', 'block_timestamp', 'tx_hash', 'action',\n",
       "       'amount0_adjusted', 'amount1_adjusted', 'amount0_usd', 'amount1_usd',\n",
       "       'token0_address', 'token1_address', 'token0_symbol', 'token1_symbol',\n",
       "       'token0_price', 'token1_price', 'liquidity', 'liquidity_adjusted',\n",
       "       'liquidity_provider', 'nf_position_manager_address', 'nf_token_id',\n",
       "       'pool_address', 'pool_name', 'tick_lower', 'tick_upper',\n",
       "       'price_lower_1_0', 'price_upper_1_0', 'price_lower_0_1',\n",
       "       'price_upper_0_1', 'price_lower_1_0_usd', 'price_upper_1_0_usd',\n",
       "       'price_lower_0_1_usd', 'price_upper_0_1_usd', 'tx_fee', 'from_address',\n",
       "       'to_address', 'token_id', 'Unnamed: 0', 'week', 'is_half_verified',\n",
       "       'is_verified_sc', 'Date_Verified', 'Contract_Name',\n",
       "       'Contract_Token_Enabled', 'Contract_Token_Name', 'Note'],\n",
       "      dtype='object')"
      ]
     },
     "execution_count": 11,
     "metadata": {},
     "output_type": "execute_result"
    }
   ],
   "execution_count": 11
  },
  {
   "metadata": {
    "ExecuteTime": {
     "end_time": "2024-05-29T23:22:26.667101Z",
     "start_time": "2024-05-29T23:22:26.532722Z"
    }
   },
   "cell_type": "code",
   "source": "merged_action_df = pool_action_info_sc.merge(verification_dates, on=[\"pool_address\", \"nf_position_manager_address\"], how='left')",
   "id": "bc3cc3a829bf8b70",
   "outputs": [],
   "execution_count": 12
  },
  {
   "metadata": {
    "ExecuteTime": {
     "end_time": "2024-05-29T23:22:27.172192Z",
     "start_time": "2024-05-29T23:22:27.083763Z"
    }
   },
   "cell_type": "code",
   "source": [
    "# consideration: remove one person SCs?\n",
    "unique_lps_cnt = merged_action_df.groupby([\"pool_address\", \"nf_position_manager_address\"])[\"liquidity_provider\"].nunique().reset_index().rename(columns={\"liquidity_provider\": \"lp_count\"})\n",
    "\n",
    "merged_action_df = merged_action_df.merge(unique_lps_cnt, on=[\"pool_address\", \"nf_position_manager_address\"], how='left')"
   ],
   "id": "2612615e73bf9f9e",
   "outputs": [],
   "execution_count": 13
  },
  {
   "metadata": {
    "ExecuteTime": {
     "end_time": "2024-05-29T23:22:27.840923Z",
     "start_time": "2024-05-29T23:22:27.746452Z"
    }
   },
   "cell_type": "code",
   "source": "per_liquidity_provider_level_analysis = merged_action_df.groupby([\"action\",  \"pool_address\", \"nf_position_manager_address\", \"liquidity_provider\", \"is_verified_sc\"])[[\"amount0_usd\", \"amount1_usd\"]].sum().reset_index()",
   "id": "cfab9f2670acf4d4",
   "outputs": [],
   "execution_count": 14
  },
  {
   "metadata": {
    "ExecuteTime": {
     "end_time": "2024-05-29T23:22:28.278570Z",
     "start_time": "2024-05-29T23:22:28.271056Z"
    }
   },
   "cell_type": "code",
   "source": "per_liquidity_provider_level_analysis[\"amount\"] = per_liquidity_provider_level_analysis[\"amount0_usd\"] + per_liquidity_provider_level_analysis[\"amount1_usd\"]",
   "id": "ad9cadb185be648f",
   "outputs": [],
   "execution_count": 15
  },
  {
   "metadata": {
    "ExecuteTime": {
     "end_time": "2024-05-29T23:22:28.779678Z",
     "start_time": "2024-05-29T23:22:28.762159Z"
    }
   },
   "cell_type": "code",
   "source": "per_liquidity_provider_level_analysis = per_liquidity_provider_level_analysis.merge(unique_lps_cnt, on=[\"pool_address\", \"nf_position_manager_address\"], how='left')",
   "id": "55d795492067e9f9",
   "outputs": [],
   "execution_count": 16
  },
  {
   "metadata": {
    "ExecuteTime": {
     "end_time": "2024-05-29T23:22:29.283810Z",
     "start_time": "2024-05-29T23:22:29.264158Z"
    }
   },
   "cell_type": "code",
   "source": [
    "# total input money analysis\n",
    "increase_analysis = per_liquidity_provider_level_analysis[per_liquidity_provider_level_analysis[\"action\"] == 'INCREASE_LIQUIDITY'].copy()\n",
    "decrease_analysis = per_liquidity_provider_level_analysis[per_liquidity_provider_level_analysis[\"action\"] == 'DECREASE_LIQUIDITY'].copy()"
   ],
   "id": "100a8364edaa0ebc",
   "outputs": [],
   "execution_count": 17
  },
  {
   "metadata": {
    "ExecuteTime": {
     "end_time": "2024-05-29T23:22:30.675009Z",
     "start_time": "2024-05-29T23:22:30.471806Z"
    }
   },
   "cell_type": "code",
   "source": [
    "increase_analysis_sub = increase_analysis[increase_analysis[\"amount\"] > 1].copy()\n",
    "increase_analysis_sub[\"log_amount\"] = np.log10(increase_analysis_sub[\"amount\"])\n",
    "sns.boxplot(data=increase_analysis_sub[increase_analysis_sub[\"lp_count\"] > 1], y=\"log_amount\", x=\"is_verified_sc\")"
   ],
   "id": "b66fe0b024ce9860",
   "outputs": [
    {
     "data": {
      "text/plain": [
       "<Axes: xlabel='is_verified_sc', ylabel='log_amount'>"
      ]
     },
     "execution_count": 18,
     "metadata": {},
     "output_type": "execute_result"
    },
    {
     "data": {
      "text/plain": [
       "<Figure size 640x480 with 1 Axes>"
      ],
      "image/png": "[encoded data removed]"
     },
     "metadata": {},
     "output_type": "display_data"
    }
   ],
   "execution_count": 18
  },
  {
   "metadata": {
    "ExecuteTime": {
     "end_time": "2024-05-29T23:22:40.833676Z",
     "start_time": "2024-05-29T23:22:40.429354Z"
    }
   },
   "cell_type": "code",
   "source": "sns.histplot(data=increase_analysis_sub[increase_analysis_sub[\"lp_count\"] > 1],x=\"log_amount\", hue='is_verified_sc')",
   "id": "31109ed1bb57b462",
   "outputs": [
    {
     "data": {
      "text/plain": [
       "<Axes: xlabel='log_amount', ylabel='Count'>"
      ]
     },
     "execution_count": 19,
     "metadata": {},
     "output_type": "execute_result"
    },
    {
     "data": {
      "text/plain": [
       "<Figure size 640x480 with 1 Axes>"
      ],
      "image/png": "[encoded data removed]"
     },
     "metadata": {},
     "output_type": "display_data"
    }
   ],
   "execution_count": 19
  },
  {
   "metadata": {
    "ExecuteTime": {
     "end_time": "2024-05-29T23:24:08.032533Z",
     "start_time": "2024-05-29T23:24:07.597091Z"
    }
   },
   "cell_type": "code",
   "source": [
    "decrease_analysis_sub = decrease_analysis[decrease_analysis[\"amount\"] > 1].copy()\n",
    "decrease_analysis_sub[\"log_amount\"] = np.log10(decrease_analysis_sub[\"amount\"])\n",
    "sns.histplot(data=decrease_analysis_sub[decrease_analysis_sub[\"lp_count\"] > 1], x=\"log_amount\", hue='is_verified_sc')"
   ],
   "id": "69821e13c17733e3",
   "outputs": [
    {
     "data": {
      "text/plain": [
       "<Axes: xlabel='log_amount', ylabel='Count'>"
      ]
     },
     "execution_count": 21,
     "metadata": {},
     "output_type": "execute_result"
    },
    {
     "data": {
      "text/plain": [
       "<Figure size 640x480 with 1 Axes>"
      ],
      "image/png": "[encoded data removed]"
     },
     "metadata": {},
     "output_type": "display_data"
    }
   ],
   "execution_count": 21
  },
  {
   "metadata": {
    "ExecuteTime": {
     "end_time": "2024-05-29T23:24:17.535300Z",
     "start_time": "2024-05-29T23:24:17.382444Z"
    }
   },
   "cell_type": "code",
   "source": "sns.boxplot(data=decrease_analysis_sub, y=\"log_amount\", x=\"is_verified_sc\")",
   "id": "fd3aad180fa8b1ce",
   "outputs": [
    {
     "data": {
      "text/plain": [
       "<Axes: xlabel='is_verified_sc', ylabel='log_amount'>"
      ]
     },
     "execution_count": 22,
     "metadata": {},
     "output_type": "execute_result"
    },
    {
     "data": {
      "text/plain": [
       "<Figure size 640x480 with 1 Axes>"
      ],
      "image/png": "[encoded data removed]"
     },
     "metadata": {},
     "output_type": "display_data"
    }
   ],
   "execution_count": 22
  },
  {
   "metadata": {
    "ExecuteTime": {
     "end_time": "2024-05-29T23:27:28.223280Z",
     "start_time": "2024-05-29T23:27:28.194657Z"
    }
   },
   "cell_type": "code",
   "source": [
    "merged_action_df_copy = merged_action_df.copy()\n",
    "merged_action_df_copy[\"amount\"] = merged_action_df_copy[\"amount0_usd\"] + merged_action_df_copy[\"amount1_usd\"]"
   ],
   "id": "6c879045f29134c7",
   "outputs": [],
   "execution_count": 23
  },
  {
   "metadata": {
    "ExecuteTime": {
     "end_time": "2024-05-29T23:27:32.080902Z",
     "start_time": "2024-05-29T23:27:32.005718Z"
    }
   },
   "cell_type": "code",
   "source": [
    "merged_action_df_copy_increase_analysis = merged_action_df_copy[merged_action_df_copy[\"action\"] == 'INCREASE_LIQUIDITY'].copy()\n",
    "merged_action_df_copy_decrease_analysis = merged_action_df_copy[merged_action_df_copy[\"action\"] == 'DECREASE_LIQUIDITY'].copy()"
   ],
   "id": "1af3cf8318fc9cc0",
   "outputs": [],
   "execution_count": 24
  },
  {
   "metadata": {
    "ExecuteTime": {
     "end_time": "2024-05-29T23:27:35.650286Z",
     "start_time": "2024-05-29T23:27:35.604650Z"
    }
   },
   "cell_type": "code",
   "source": [
    "merged_action_df_copy_increase_analysis_sub = merged_action_df_copy_increase_analysis[merged_action_df_copy_increase_analysis[\"amount\"] > 1].copy()\n",
    "merged_action_df_copy_decrease_analysis_sub = merged_action_df_copy_decrease_analysis[merged_action_df_copy_decrease_analysis[\"amount\"] > 1].copy()\n",
    "merged_action_df_copy_increase_analysis_sub[\"log_amount\"] = np.log10(merged_action_df_copy_increase_analysis_sub[\"amount\"])\n",
    "merged_action_df_copy_decrease_analysis_sub[\"log_amount\"] = np.log10(merged_action_df_copy_decrease_analysis_sub[\"amount\"])"
   ],
   "id": "7bb9f19227399eea",
   "outputs": [],
   "execution_count": 25
  },
  {
   "metadata": {
    "ExecuteTime": {
     "end_time": "2024-05-29T23:27:51.429113Z",
     "start_time": "2024-05-29T23:27:51.229458Z"
    }
   },
   "cell_type": "code",
   "source": "sns.boxplot(data=merged_action_df_copy_increase_analysis_sub[merged_action_df_copy_increase_analysis_sub[\"lp_count\"] > 1], y=\"log_amount\", x=\"is_verified_sc\")",
   "id": "e8c00552e2b0f3d7",
   "outputs": [
    {
     "data": {
      "text/plain": [
       "<Axes: xlabel='is_verified_sc', ylabel='log_amount'>"
      ]
     },
     "execution_count": 26,
     "metadata": {},
     "output_type": "execute_result"
    },
    {
     "data": {
      "text/plain": [
       "<Figure size 640x480 with 1 Axes>"
      ],
      "image/png": "[encoded data removed]"
     },
     "metadata": {},
     "output_type": "display_data"
    }
   ],
   "execution_count": 26
  },
  {
   "metadata": {
    "ExecuteTime": {
     "end_time": "2024-05-29T23:29:32.123736Z",
     "start_time": "2024-05-29T23:29:32.110715Z"
    }
   },
   "cell_type": "code",
   "source": "merged_action_df_copy_increase_analysis_sub[\"is_verified_sc_fixed\"] = merged_action_df_copy_increase_analysis_sub[\"is_verified_sc\"] > 0",
   "id": "ba6e116f0266e0a8",
   "outputs": [],
   "execution_count": 27
  },
  {
   "metadata": {
    "ExecuteTime": {
     "end_time": "2024-05-29T23:29:40.149612Z",
     "start_time": "2024-05-29T23:29:39.685457Z"
    }
   },
   "cell_type": "code",
   "source": "sns.histplot(data=merged_action_df_copy_increase_analysis_sub[merged_action_df_copy_increase_analysis_sub[\"lp_count\"] > 1], x=\"log_amount\", hue='is_verified_sc_fixed')",
   "id": "50df3bb2490fa90f",
   "outputs": [
    {
     "data": {
      "text/plain": [
       "<Axes: xlabel='log_amount', ylabel='Count'>"
      ]
     },
     "execution_count": 28,
     "metadata": {},
     "output_type": "execute_result"
    },
    {
     "data": {
      "text/plain": [
       "<Figure size 640x480 with 1 Axes>"
      ],
      "image/png": "[encoded data removed]"
     },
     "metadata": {},
     "output_type": "display_data"
    }
   ],
   "execution_count": 28
  },
  {
   "metadata": {
    "ExecuteTime": {
     "end_time": "2024-05-29T23:30:35.118973Z",
     "start_time": "2024-05-29T23:30:34.918797Z"
    }
   },
   "cell_type": "code",
   "source": "sns.boxplot(data=merged_action_df_copy_decrease_analysis_sub[merged_action_df_copy_decrease_analysis_sub[\"lp_count\"] > 1], y=\"log_amount\", x=\"is_verified_sc\")",
   "id": "e816bac2e07ef668",
   "outputs": [
    {
     "data": {
      "text/plain": [
       "<Axes: xlabel='is_verified_sc', ylabel='log_amount'>"
      ]
     },
     "execution_count": 29,
     "metadata": {},
     "output_type": "execute_result"
    },
    {
     "data": {
      "text/plain": [
       "<Figure size 640x480 with 1 Axes>"
      ],
      "image/png": "[encoded data removed]"
     },
     "metadata": {},
     "output_type": "display_data"
    }
   ],
   "execution_count": 29
  },
  {
   "metadata": {
    "ExecuteTime": {
     "end_time": "2024-05-29T23:31:30.278090Z",
     "start_time": "2024-05-29T23:31:29.813124Z"
    }
   },
   "cell_type": "code",
   "source": [
    "merged_action_df_copy_decrease_analysis_sub[\"is_verified_sc_fixed\"] = merged_action_df_copy_decrease_analysis_sub[\"is_verified_sc\"] > 0\n",
    "sns.histplot(data=merged_action_df_copy_decrease_analysis_sub[merged_action_df_copy_decrease_analysis_sub[\"lp_count\"] > 1], x=\"log_amount\", hue='is_verified_sc_fixed')"
   ],
   "id": "f59b218a4526a0b7",
   "outputs": [
    {
     "data": {
      "text/plain": [
       "<Axes: xlabel='log_amount', ylabel='Count'>"
      ]
     },
     "execution_count": 30,
     "metadata": {},
     "output_type": "execute_result"
    },
    {
     "data": {
      "text/plain": [
       "<Figure size 640x480 with 1 Axes>"
      ],
      "image/png": "[encoded data removed]"
     },
     "metadata": {},
     "output_type": "display_data"
    }
   ],
   "execution_count": 30
  },
  {
   "metadata": {
    "ExecuteTime": {
     "end_time": "2024-05-29T23:38:25.906158Z",
     "start_time": "2024-05-29T23:38:25.885996Z"
    }
   },
   "cell_type": "code",
   "source": "merged_action_df_copy.columns",
   "id": "6f3d58e4eeca787",
   "outputs": [
    {
     "data": {
      "text/plain": [
       "Index(['blockchain', 'block_number', 'block_timestamp', 'tx_hash', 'action',\n",
       "       'amount0_adjusted', 'amount1_adjusted', 'amount0_usd', 'amount1_usd',\n",
       "       'token0_address', 'token1_address', 'token0_symbol', 'token1_symbol',\n",
       "       'token0_price', 'token1_price', 'liquidity', 'liquidity_adjusted',\n",
       "       'liquidity_provider', 'nf_position_manager_address', 'nf_token_id',\n",
       "       'pool_address', 'pool_name', 'tick_lower', 'tick_upper',\n",
       "       'price_lower_1_0', 'price_upper_1_0', 'price_lower_0_1',\n",
       "       'price_upper_0_1', 'price_lower_1_0_usd', 'price_upper_1_0_usd',\n",
       "       'price_lower_0_1_usd', 'price_upper_0_1_usd', 'tx_fee', 'from_address',\n",
       "       'to_address', 'token_id', 'Unnamed: 0', 'week', 'is_half_verified',\n",
       "       'is_verified_sc', 'Date_Verified', 'Contract_Name',\n",
       "       'Contract_Token_Enabled', 'Contract_Token_Name', 'Note', 'lp_count',\n",
       "       'amount'],\n",
       "      dtype='object')"
      ]
     },
     "execution_count": 34,
     "metadata": {},
     "output_type": "execute_result"
    }
   ],
   "execution_count": 34
  },
  {
   "metadata": {
    "ExecuteTime": {
     "end_time": "2024-05-29T23:39:26.934666Z",
     "start_time": "2024-05-29T23:39:26.916645Z"
    }
   },
   "cell_type": "code",
   "source": "merged_action_df_copy[\"is_verified_sc_fixed\"] = merged_action_df_copy[\"is_verified_sc\"] > 0",
   "id": "fad5bdefdebba794",
   "outputs": [],
   "execution_count": 36
  },
  {
   "metadata": {
    "ExecuteTime": {
     "end_time": "2024-05-29T23:39:38.794778Z",
     "start_time": "2024-05-29T23:39:37.735670Z"
    }
   },
   "cell_type": "code",
   "source": [
    "merged_action_df_copy[['action',\n",
    "       'amount0_adjusted', 'amount1_adjusted', 'amount0_usd', 'amount1_usd',\n",
    "       'token0_address', 'token1_address', 'token0_symbol', 'token1_symbol',\n",
    "       'token0_price', 'token1_price', 'liquidity', 'liquidity_adjusted',\n",
    "       'liquidity_provider', 'nf_position_manager_address', 'nf_token_id',\n",
    "       'pool_address', 'pool_name', 'tick_lower', 'tick_upper',\n",
    "       'price_lower_1_0', 'price_upper_1_0', 'price_lower_0_1',\n",
    "       'price_upper_0_1', 'price_lower_1_0_usd', 'price_upper_1_0_usd',\n",
    "       'price_lower_0_1_usd', 'price_upper_0_1_usd', 'tx_fee', 'from_address',\n",
    "       'to_address', 'token_id', 'week',\n",
    "       'is_verified_sc_fixed', 'lp_count',\n",
    "       'amount']].to_stata('step20529.dta')"
   ],
   "id": "42485f0b1dbd360",
   "outputs": [],
   "execution_count": 37
  },
  {
   "metadata": {
    "ExecuteTime": {
     "end_time": "2024-05-29T23:38:00.280553Z",
     "start_time": "2024-05-29T23:38:00.270042Z"
    }
   },
   "cell_type": "code",
   "source": "merged_action_df[\"is_half_verified\"]",
   "id": "d8d5dc73b8e4e2a4",
   "outputs": [
    {
     "data": {
      "text/plain": [
       "0        False\n",
       "1        False\n",
       "2        False\n",
       "3        False\n",
       "4        False\n",
       "         ...  \n",
       "51798    False\n",
       "51799    False\n",
       "51800    False\n",
       "51801    False\n",
       "51802    False\n",
       "Name: is_half_verified, Length: 51803, dtype: object"
      ]
     },
     "execution_count": 33,
     "metadata": {},
     "output_type": "execute_result"
    }
   ],
   "execution_count": 33
  },
  {
   "metadata": {
    "ExecuteTime": {
     "end_time": "2024-05-30T00:34:07.268501Z",
     "start_time": "2024-05-30T00:34:07.248479Z"
    }
   },
   "cell_type": "code",
   "source": "merged_action_df_copy.columns",
   "id": "53c30924e8b46c70",
   "outputs": [
    {
     "data": {
      "text/plain": [
       "Index(['blockchain', 'block_number', 'block_timestamp', 'tx_hash', 'action',\n",
       "       'amount0_adjusted', 'amount1_adjusted', 'amount0_usd', 'amount1_usd',\n",
       "       'token0_address', 'token1_address', 'token0_symbol', 'token1_symbol',\n",
       "       'token0_price', 'token1_price', 'liquidity', 'liquidity_adjusted',\n",
       "       'liquidity_provider', 'nf_position_manager_address', 'nf_token_id',\n",
       "       'pool_address', 'pool_name', 'tick_lower', 'tick_upper',\n",
       "       'price_lower_1_0', 'price_upper_1_0', 'price_lower_0_1',\n",
       "       'price_upper_0_1', 'price_lower_1_0_usd', 'price_upper_1_0_usd',\n",
       "       'price_lower_0_1_usd', 'price_upper_0_1_usd', 'tx_fee', 'from_address',\n",
       "       'to_address', 'token_id', 'Unnamed: 0', 'week', 'is_half_verified',\n",
       "       'is_verified_sc', 'Date_Verified', 'Contract_Name',\n",
       "       'Contract_Token_Enabled', 'Contract_Token_Name', 'Note', 'lp_count',\n",
       "       'amount', 'is_verified_sc_fixed'],\n",
       "      dtype='object')"
      ]
     },
     "execution_count": 53,
     "metadata": {},
     "output_type": "execute_result"
    }
   ],
   "execution_count": 53
  },
  {
   "metadata": {
    "ExecuteTime": {
     "end_time": "2024-05-30T00:34:22.571495Z",
     "start_time": "2024-05-30T00:34:22.488918Z"
    }
   },
   "cell_type": "code",
   "source": "per_user_level_actions_per_week = merged_action_df_copy[merged_action_df_copy[\"lp_count\"] > 1].groupby([\"pool_address\", \"week\", \"liquidity_provider\", \"is_verified_sc_fixed\"])[[\"tx_hash\"]].nunique().reset_index()",
   "id": "795de644cbf9dee5",
   "outputs": [],
   "execution_count": 54
  },
  {
   "metadata": {
    "ExecuteTime": {
     "end_time": "2024-05-30T00:35:07.118404Z",
     "start_time": "2024-05-30T00:35:07.049297Z"
    }
   },
   "cell_type": "code",
   "source": "per_user_level_actions_overall = merged_action_df_copy[merged_action_df_copy[\"lp_count\"] > 1].groupby([\"liquidity_provider\", \"is_verified_sc_fixed\"])[[\"tx_hash\"]].nunique().reset_index()",
   "id": "d1f2c911e4c91d25",
   "outputs": [],
   "execution_count": 59
  },
  {
   "metadata": {
    "ExecuteTime": {
     "end_time": "2024-05-30T00:39:21.536657Z",
     "start_time": "2024-05-30T00:39:21.522810Z"
    }
   },
   "cell_type": "code",
   "source": [
    "per_user_level_actions_overall[\"log_tx_hash\"] = np.log10(per_user_level_actions_overall[\"tx_hash\"]+1)\n",
    "per_user_level_actions_per_week[\"log_tx_hash\"] = np.log10(per_user_level_actions_per_week[\"tx_hash\"]+1)"
   ],
   "id": "6e6c77da3be80ffd",
   "outputs": [],
   "execution_count": 70
  },
  {
   "metadata": {
    "ExecuteTime": {
     "end_time": "2024-05-30T00:39:22.196611Z",
     "start_time": "2024-05-30T00:39:22.024927Z"
    }
   },
   "cell_type": "code",
   "source": "sns.boxplot(data=per_user_level_actions_overall, y=\"log_tx_hash\", x=\"is_verified_sc_fixed\")",
   "id": "5c80b03efb243481",
   "outputs": [
    {
     "data": {
      "text/plain": [
       "<Axes: xlabel='is_verified_sc_fixed', ylabel='log_tx_hash'>"
      ]
     },
     "execution_count": 71,
     "metadata": {},
     "output_type": "execute_result"
    },
    {
     "data": {
      "text/plain": [
       "<Figure size 640x480 with 1 Axes>"
      ],
      "image/png": "[encoded data removed]"
     },
     "metadata": {},
     "output_type": "display_data"
    }
   ],
   "execution_count": 71
  },
  {
   "metadata": {
    "ExecuteTime": {
     "end_time": "2024-05-30T00:39:23.564907Z",
     "start_time": "2024-05-30T00:39:23.416768Z"
    }
   },
   "cell_type": "code",
   "source": "sns.boxplot(data=per_user_level_actions_per_week, y=\"log_tx_hash\", x=\"is_verified_sc_fixed\")",
   "id": "f4cea8e4ad5d5926",
   "outputs": [
    {
     "data": {
      "text/plain": [
       "<Axes: xlabel='is_verified_sc_fixed', ylabel='log_tx_hash'>"
      ]
     },
     "execution_count": 72,
     "metadata": {},
     "output_type": "execute_result"
    },
    {
     "data": {
      "text/plain": [
       "<Figure size 640x480 with 1 Axes>"
      ],
      "image/png": "[encoded data removed]"
     },
     "metadata": {},
     "output_type": "display_data"
    }
   ],
   "execution_count": 72
  },
  {
   "metadata": {},
   "cell_type": "code",
   "outputs": [],
   "execution_count": null,
   "source": "",
   "id": "35d4b9fbadd90f7b"
  }
 ],
 "metadata": {
  "kernelspec": {
   "display_name": "Python 3",
   "language": "python",
   "name": "python3"
  },
  "language_info": {
   "codemirror_mode": {
    "name": "ipython",
    "version": 2
   },
   "file_extension": ".py",
   "mimetype": "text/x-python",
   "name": "python",
   "nbconvert_exporter": "python",
   "pygments_lexer": "ipython2",
   "version": "2.7.6"
  }
 },
 "nbformat": 4,
 "nbformat_minor": 5
}
