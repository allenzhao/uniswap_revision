{
 "cells": [
  {
   "cell_type": "code",
   "execution_count": 1,
   "metadata": {},
   "outputs": [],
   "source": [
    "import pandas as pd\n",
    "import os\n",
    "from easydict import EasyDict\n",
    "def get_parent(path=os.getcwd(), levels=1):\n",
    "    common = path\n",
    "    # Using for loop for getting starting point required for\n",
    "    for i in range(levels + 1):\n",
    "        # Starting point\n",
    "        common = os.path.dirname(common)\n",
    "    return os.path.abspath(common)\n",
    "data_folder_path = os.path.join(get_parent(), \"data\")\n",
    "res_dfs = []\n",
    "dfs = []\n",
    "results = []\n",
    "result_df = pd.DataFrame()\n",
    "daily_prices = pd.read_csv(os.path.join(data_folder_path, \"03_scratch_data\", 'daily_pool_agg_results.csv'))\n",
    "weekly_prices = pd.read_csv(os.path.join(data_folder_path, \"03_scratch_data\", 'weekly_pool_agg_results.csv'))\n",
    "TEST_POOL_ADDR = ['0x11b815efb8f581194ae79006d24e0d814b7697f6',\n",
    "             '0x4e68ccd3e89f51c3074ca5072bbac773960dfa36',\n",
    "             '0x69d91b94f0aaf8e8a2586909fa77a5c2c89818d5',\n",
    "             '0x88e6a0c2ddd26feeb64f039a2c41296fcb3f5640',\n",
    "             '0x8ad599c3a0ff1de082011efddc58f1908eb6e6d8',\n",
    "             '0x99ac8ca7087fa4a2a1fb6357269965a2014abc35',\n",
    "             '0xc2e9f25be6257c210d7adf0d4cd6e3e881ba25f8',\n",
    "             ]\n",
    "POOL_ADDR = TEST_POOL_ADDR\n",
    "\n",
    "pool_info_edict_list = [\n",
    "    EasyDict({'pair_name': 'ETH-USDT', 'fee_tier': 500, 'decimal0': 18, 'decimal1': 6, 'base_token0': False}),\n",
    "    EasyDict({'pair_name': 'ETH-USDT', 'fee_tier': 3000, 'decimal0': 18, 'decimal1': 6, 'base_token0': False}),\n",
    "    EasyDict({'pair_name': 'HEX-USDC', 'fee_tier': 3000, 'decimal0': 8, 'decimal1': 6, 'base_token0': False}),\n",
    "    EasyDict({'pair_name': 'USDC-ETH', 'fee_tier': 500, 'decimal0': 6, 'decimal1': 18, 'base_token0': True}),\n",
    "    EasyDict({'pair_name': 'USDC-ETH', 'fee_tier': 3000, 'decimal0': 6, 'decimal1': 18, 'base_token0': True}),\n",
    "    EasyDict({'pair_name': 'WBTC-USDC', 'fee_tier': 3000, 'decimal0': 8, 'decimal1': 6, 'base_token0': False}),\n",
    "    EasyDict({'pair_name': 'DAI-ETH', 'fee_tier': 3000, 'decimal0': 18, 'decimal1': 18, 'base_token0': True}),\n",
    "]\n",
    "\n",
    "\n",
    "\n",
    "POOL_INFO = dict(zip(POOL_ADDR, pool_info_edict_list))\n",
    "sc_from_data = pd.read_csv(os.path.join(data_folder_path, \"01_original_data\", \"sc_ownership\", 'token_transfer_sc_from_data.csv'))\n",
    "sc_to_data = pd.read_csv(os.path.join(data_folder_path, \"01_original_data\", \"sc_ownership\", 'token_transfer_sc_to_data.csv'))\n",
    "sc_original_to_data = pd.read_csv(os.path.join(data_folder_path, \"01_original_data\", \"sc_ownership\", 'token_transfer_sc_original_to_data.csv'))\n",
    "\n",
    "STABLE_COIN_ADDR = [\n",
    "    '0xa0b86991c6218b36c1d19d4a2e9eb0ce3606eb48',\n",
    "    '0x6b175474e89094c44da98b954eedeac495271d0f',\n",
    "    '0xdac17f958d2ee523a2206206994597c13d831ec7',\n",
    "]"
   ]
  },
  {
   "cell_type": "code",
   "execution_count": 10,
   "metadata": {},
   "outputs": [],
   "source": [
    "sc_all_data = pd.concat([sc_from_data, sc_to_data, sc_original_to_data])\n",
    "sc_all_data.to_csv(os.path.join(data_folder_path, \"03_scratch_data\", 'token_transfer_sc_all_data.csv'), index=False)"
   ]
  },
  {
   "cell_type": "code",
   "execution_count": 9,
   "metadata": {},
   "outputs": [],
   "source": [
    "sc_all_data_no_duplicates = sc_all_data = sc_all_data.drop_duplicates()\n",
    "sc_all_data_no_duplicates.to_csv(os.path.join(data_folder_path, \"03_scratch_data\", 'token_transfer_sc_all_data_no_dups.csv'), index=False)"
   ]
  },
  {
   "cell_type": "code",
   "execution_count": 11,
   "metadata": {},
   "outputs": [],
   "source": [
    "sc_verification_data = pd.read_csv(\"C:/Users/zxz170017/verification.csv\")"
   ]
  },
  {
   "cell_type": "code",
   "execution_count": 17,
   "metadata": {},
   "outputs": [],
   "source": [
    "sc_verification_data_unique_managers = sc_verification_data[\"manager_address\"].unique()"
   ]
  },
  {
   "cell_type": "code",
   "execution_count": 15,
   "metadata": {},
   "outputs": [
    {
     "data": {
      "text/plain": [
       "'0x44e5e0e2054817e79c8b577c5ac2b46d1241a713a4f1491c413db81e48facc23'"
      ]
     },
     "execution_count": 15,
     "metadata": {},
     "output_type": "execute_result"
    }
   ],
   "source": [
    "sc_all_data_no_duplicates.head(10)[\"TX_HASH\"][0]"
   ]
  },
  {
   "cell_type": "code",
   "execution_count": 31,
   "metadata": {},
   "outputs": [],
   "source": [
    "token_decimals = pd.read_csv(os.path.join(data_folder_path, \"01_original_data\", \"swap_data\", \"token_decimals.csv\"))"
   ]
  },
  {
   "cell_type": "code",
   "execution_count": 34,
   "metadata": {},
   "outputs": [],
   "source": [
    "sc_all_data_no_duplicates = sc_all_data_no_duplicates.merge(token_decimals, on=\"CONTRACT_ADDRESS\", how=\"left\").dropna()"
   ]
  },
  {
   "cell_type": "code",
   "execution_count": 37,
   "metadata": {},
   "outputs": [],
   "source": [
    "# use gmpy2 to handle the precision issue\n",
    "from gmpy2 import mpz\n",
    "sc_all_data_no_duplicates[\"raw_amount_mpz\"] = sc_all_data_no_duplicates[\"RAW_AMOUNT_PRECISE\"].apply(lambda x: mpz(x))\n",
    "sc_all_data_no_duplicates[\"amount\"] = sc_all_data_no_duplicates[\"raw_amount_mpz\"] / (10 ** sc_all_data_no_duplicates[\"DECIMAL\"])\n"
   ]
  },
  {
   "cell_type": "code",
   "execution_count": 40,
   "metadata": {},
   "outputs": [],
   "source": [
    "sc_all_data_no_duplicates.sort_values(by=[\"BLOCK_NUMBER\", \"TX_HASH\", \"EVENT_INDEX\"], inplace=True)"
   ]
  },
  {
   "cell_type": "code",
   "execution_count": 43,
   "metadata": {},
   "outputs": [],
   "source": [
    "sc_all_data_no_duplicates[\"week\"] = pd.to_datetime(sc_all_data_no_duplicates[\"BLOCK_TIMESTAMP\"]).dt.to_period('W-SAT').dt.start_time"
   ]
  },
  {
   "cell_type": "code",
   "execution_count": 46,
   "metadata": {},
   "outputs": [],
   "source": [
    "# convert all columns to lower case string\n",
    "sc_all_data_no_duplicates.columns = sc_all_data_no_duplicates.columns.str.lower()\n"
   ]
  },
  {
   "cell_type": "code",
   "execution_count": 65,
   "metadata": {},
   "outputs": [
    {
     "data": {
      "text/plain": [
       "array(['0xa0b86991c6218b36c1d19d4a2e9eb0ce3606eb48',\n",
       "       '0xc02aaa39b223fe8d0a0e5c4f27ead9083c756cc2',\n",
       "       '0x6b175474e89094c44da98b954eedeac495271d0f',\n",
       "       '0xdac17f958d2ee523a2206206994597c13d831ec7',\n",
       "       '0x2260fac5e5542a773aa44fbcfedf7c193bc2c599'], dtype=object)"
      ]
     },
     "execution_count": 65,
     "metadata": {},
     "output_type": "execute_result"
    }
   ],
   "source": [
    "sc_all_data_no_duplicates[\"contract_address\"].unique()"
   ]
  },
  {
   "cell_type": "code",
   "execution_count": 51,
   "metadata": {},
   "outputs": [],
   "source": [
    "sc_all_data_no_duplicates[\"is_to_pool\"] = sc_all_data_no_duplicates[\"to_address\"].isin(TEST_POOL_ADDR)"
   ]
  },
  {
   "cell_type": "code",
   "execution_count": 68,
   "metadata": {},
   "outputs": [],
   "source": [
    "sc_all_data_no_duplicates[\"is_from_pool\"] = sc_all_data_no_duplicates[\"from_address\"].isin(TEST_POOL_ADDR)\n",
    "sc_all_data_no_duplicates[\"is_stable_coin\"] = sc_all_data_no_duplicates[\"contract_address\"].isin(STABLE_COIN_ADDR)"
   ]
  },
  {
   "cell_type": "code",
   "execution_count": 84,
   "metadata": {},
   "outputs": [],
   "source": [
    "to_pool_obs = sc_all_data_no_duplicates[sc_all_data_no_duplicates[\"is_to_pool\"]].copy()\n",
    "from_pool_obs = sc_all_data_no_duplicates[sc_all_data_no_duplicates[\"is_from_pool\"]].copy()"
   ]
  },
  {
   "cell_type": "code",
   "execution_count": 85,
   "metadata": {},
   "outputs": [],
   "source": [
    "neither_to_pool_nor_from_pool = sc_all_data_no_duplicates[~sc_all_data_no_duplicates[\"is_to_pool\"] & ~sc_all_data_no_duplicates[\"is_from_pool\"]].copy()"
   ]
  },
  {
   "cell_type": "code",
   "execution_count": 87,
   "metadata": {},
   "outputs": [],
   "source": [
    "to_pool_obs.rename(columns={\"origin_from_address\": \"liquidity_provider\", \n",
    "                            \"origin_to_address\": \"manager_address\", \n",
    "                            \"to_address\":\"pool_address\", \n",
    "                            \"contract_address\":\"token_address\"}, inplace=True)\n"
   ]
  },
  {
   "cell_type": "code",
   "execution_count": 97,
   "metadata": {},
   "outputs": [],
   "source": [
    "to_pool_tx_cnt = to_pool_obs.groupby([\"pool_address\", \"manager_address\", \"week\", \"liquidity_provider\"]).agg(\n",
    "    sc_input_tx_cnt = (\"tx_hash\", \"nunique\"),\n",
    ").reset_index()"
   ]
  },
  {
   "cell_type": "code",
   "execution_count": 98,
   "metadata": {},
   "outputs": [],
   "source": [
    "from_pool_obs.rename(columns={\"origin_from_address\": \"liquidity_provider\", \n",
    "                            \"origin_to_address\": \"manager_address\", \n",
    "                            \"from_address\":\"pool_address\", \n",
    "                            \"contract_address\":\"token_address\"}, inplace=True)\n",
    "from_pool_tx_cnt = from_pool_obs.groupby([\"pool_address\", \"manager_address\" , \"week\", \"liquidity_provider\"]).agg(\n",
    "    sc_removal_tx_cnt = (\"tx_hash\", \"nunique\"),\n",
    ").reset_index()"
   ]
  },
  {
   "cell_type": "code",
   "execution_count": 99,
   "metadata": {},
   "outputs": [],
   "source": [
    "from_pool_tx_cnt.to_csv(\"C:/Users/zxz170017/lp_sc_input.csv\", index=False)\n",
    "to_pool_tx_cnt.to_csv(\"C:/Users/zxz170017/lp_sc_output.csv\", index=False)"
   ]
  },
  {
   "cell_type": "code",
   "execution_count": 118,
   "metadata": {},
   "outputs": [],
   "source": [
    "neither_to_pool_nor_from_pool[\"from_lp_to_sc\"] = neither_to_pool_nor_from_pool[\"origin_to_address\"].isin(sc_verification_data_unique_managers)\n",
    "part_two_useful = neither_to_pool_nor_from_pool[neither_to_pool_nor_from_pool[\"from_lp_to_sc\"]].copy()\n",
    "part_two_useful[\"from_lp_input\"] = part_two_useful[\"to_address\"] == part_two_useful[\"origin_to_address\"]\n",
    "part_two_useful[\"from_lp_output\"] = part_two_useful[\"from_address\"] == part_two_useful[\"origin_to_address\"]"
   ]
  },
  {
   "cell_type": "code",
   "execution_count": 119,
   "metadata": {},
   "outputs": [],
   "source": [
    "part_two_useful.rename(columns={\"origin_from_address\": \"liquidity_provider\", \n",
    "                            \"origin_to_address\": \"manager_address\", \n",
    "}, inplace=True)"
   ]
  },
  {
   "cell_type": "code",
   "execution_count": 121,
   "metadata": {},
   "outputs": [],
   "source": [
    "part_two_useful_lp_input = part_two_useful[part_two_useful[\"from_lp_input\"]].copy()\n",
    "part_two_useful_lp_output = part_two_useful[part_two_useful[\"from_lp_output\"]].copy()"
   ]
  },
  {
   "cell_type": "code",
   "execution_count": 122,
   "metadata": {},
   "outputs": [],
   "source": [
    "part_two_tx_cnt_input = part_two_useful_lp_input.groupby([\"manager_address\" , \"week\", \"liquidity_provider\"]).agg(\n",
    "    sc_input_tx_cnt_part_two = (\"tx_hash\", \"nunique\"),\n",
    ").reset_index()\n",
    "part_two_tx_cnt_ouput = part_two_useful_lp_output.groupby([\"manager_address\" , \"week\", \"liquidity_provider\"]).agg(\n",
    "    sc_removal_tx_cnt_part_two = (\"tx_hash\", \"nunique\"),\n",
    ").reset_index()"
   ]
  },
  {
   "cell_type": "code",
   "execution_count": 125,
   "metadata": {},
   "outputs": [],
   "source": [
    "part_two_tx_cnt_input.to_csv(\"C:/Users/zxz170017/lp_sc_input_part2.csv\", index=False)\n",
    "part_two_tx_cnt_ouput.to_csv(\"C:/Users/zxz170017/lp_sc_output_part2.csv\", index=False)"
   ]
  },
  {
   "cell_type": "code",
   "execution_count": null,
   "metadata": {},
   "outputs": [],
   "source": []
  }
 ],
 "metadata": {
  "kernelspec": {
   "display_name": "uniswap_data_processing",
   "language": "python",
   "name": "python3"
  },
  "language_info": {
   "codemirror_mode": {
    "name": "ipython",
    "version": 3
   },
   "file_extension": ".py",
   "mimetype": "text/x-python",
   "name": "python",
   "nbconvert_exporter": "python",
   "pygments_lexer": "ipython3",
   "version": "3.10.4"
  }
 },
 "nbformat": 4,
 "nbformat_minor": 2
}
