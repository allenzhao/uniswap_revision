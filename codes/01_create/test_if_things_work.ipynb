{
 "cells": [
  {
   "cell_type": "code",
   "execution_count": 1,
   "id": "b77a8b621e35447f",
   "metadata": {
    "ExecuteTime": {
     "end_time": "2024-06-11T16:19:17.536654Z",
     "start_time": "2024-06-11T16:19:15.940710Z"
    }
   },
   "outputs": [],
   "source": [
    "import os\n",
    "\n",
    "import numpy as np\n",
    "import pandas as pd\n",
    "from pandas import DataFrame\n",
    "from scipy.stats.mstats import winsorize\n",
    "from gmpy2 import mpz\n",
    "\n",
    "def get_parent(path=os.getcwd(), levels=1):\n",
    "    common = path\n",
    "    # Using for loop for getting starting point required for\n",
    "    for i in range(levels + 1):\n",
    "        # Starting point\n",
    "        common = os.path.dirname(common)\n",
    "    return os.path.abspath(common)\n",
    "\n",
    "#from codes.shared_library.utils import POOL_INFO, UNISWAP_NFT_MANAGER, get_parent, \\\n",
    "#    UNISWAP_MIGRATOR"
   ]
  },
  {
   "cell_type": "code",
   "execution_count": 2,
   "id": "5de085b842e77bef",
   "metadata": {
    "ExecuteTime": {
     "end_time": "2024-06-11T22:18:12.101366Z",
     "start_time": "2024-06-11T22:18:11.987643Z"
    }
   },
   "outputs": [],
   "source": [
    "data_folder_path = os.path.join(get_parent(), \"data\")\n",
    "sc_verification_data = pd.read_csv(os.path.join(data_folder_path, \"01_original_data\", \"sc_ownership\", 'sc_verified_data.csv'))\n",
    "sc_with_token_transfers = pd.read_csv(os.path.join(data_folder_path, \"01_original_data\", \"sc_ownership\", '0911_sc_ownership_try_second_time.csv'))"
   ]
  },
  {
   "cell_type": "code",
   "execution_count": 3,
   "id": "04fadba7",
   "metadata": {},
   "outputs": [],
   "source": [
    "#ownership_percentage = pd.read_csv(\"ownership_result_test.csv\")\n",
    "sc_with_token_transfers[\"RAW_AMOUNT\"] = sc_with_token_transfers[\"RAW_AMOUNT\"].astype(float)\n"
   ]
  },
  {
   "cell_type": "code",
   "execution_count": 4,
   "id": "ddbccd2f760d71be",
   "metadata": {
    "ExecuteTime": {
     "end_time": "2024-06-11T22:11:53.238715Z",
     "start_time": "2024-06-11T22:11:53.217697Z"
    }
   },
   "outputs": [],
   "source": [
    "sc_verification_dates_data = pd.read_csv(os.path.join(data_folder_path, \"01_original_data\", \"sc_ownership\", 'verification_dates.csv'))\n",
    "sc_contract_data = pd.read_csv(os.path.join(data_folder_path, \"01_original_data\", \"sc_ownership\", 'sc_contract_data.csv'))"
   ]
  },
  {
   "cell_type": "code",
   "execution_count": 5,
   "id": "4e61823f1b4e976",
   "metadata": {
    "ExecuteTime": {
     "end_time": "2024-06-11T22:18:24.923716Z",
     "start_time": "2024-06-11T22:18:24.906204Z"
    }
   },
   "outputs": [],
   "source": [
    "all_zero_address = '0x0000000000000000000000000000000000000000'\n",
    "cond_wired = (sc_with_token_transfers['FROM_ADDRESS'] != all_zero_address) & (sc_with_token_transfers['TO_ADDRESS'] != all_zero_address)"
   ]
  },
  {
   "cell_type": "code",
   "execution_count": 12,
   "id": "06d0d546",
   "metadata": {},
   "outputs": [],
   "source": [
    "sc_with_token_transfers[\"RAW_AMOUNT_PRECISE\"] = sc_with_token_transfers[\"RAW_AMOUNT_PRECISE\"].astype(float)\n",
    "sc_with_token_transfers.dropna(inplace=True)"
   ]
  },
  {
   "cell_type": "code",
   "execution_count": 22,
   "id": "d208a7b2",
   "metadata": {},
   "outputs": [
    {
     "data": {
      "text/plain": [
       "141"
      ]
     },
     "execution_count": 22,
     "metadata": {},
     "output_type": "execute_result"
    }
   ],
   "source": [
    "len(contract_addresses)"
   ]
  },
  {
   "cell_type": "code",
   "execution_count": 25,
   "id": "4c80f2e736c6915d",
   "metadata": {
    "ExecuteTime": {
     "end_time": "2024-06-11T23:28:40.820226Z",
     "start_time": "2024-06-11T23:26:30.916995Z"
    }
   },
   "outputs": [],
   "source": [
    "# Convert the BLOCK_TIMESTAMP to a datetime object\n",
    "df = sc_with_token_transfers.copy()\n",
    "df.sort_values(by=['CONTRACT_ADDRESS', 'BLOCK_TIMESTAMP'], inplace=True)\n",
    "df['BLOCK_TIMESTAMP'] = pd.to_datetime(df['BLOCK_TIMESTAMP'])\n",
    "user_addresses = set(df['FROM_ADDRESS']).union(set(df['TO_ADDRESS']))\n",
    "contract_addresses = set(df['CONTRACT_ADDRESS'])\n",
    "\n",
    "# Create a dictionary to store the balances for each address\n",
    "balances = {}\n",
    "\n",
    "# Create a dictionary to store the total supply for each token\n",
    "total_supplies = {}\n",
    "\n",
    "# Create a new DataFrame to store the daily balances\n",
    "daily_balances = pd.DataFrame(columns=['ADDRESS', 'CONTRACT_ADDRESS', 'BALANCE', 'DATE'])\n",
    "max_date = df['BLOCK_TIMESTAMP'].max()\n",
    "# Iterate over each address and contract_address combination\n",
    "for contract_address in contract_addresses:\n",
    "    filtered_df = df[df['CONTRACT_ADDRESS'] == contract_address][['BLOCK_NUMBER', 'BLOCK_TIMESTAMP', 'TX_HASH', 'EVENT_INDEX', \n",
    "                                                                  'CONTRACT_ADDRESS', 'FROM_ADDRESS', 'TO_ADDRESS', 'RAW_AMOUNT', 'RAW_AMOUNT_PRECISE']]\n",
    "    user_addresses = set(filtered_df['FROM_ADDRESS']).union(set(filtered_df['TO_ADDRESS']))\n",
    "    for address in user_addresses:\n",
    "        if address == all_zero_address:\n",
    "            continue\n",
    "\n",
    "        # Filter the transactions for the current address and contract_address\n",
    "        filtered_df_from_this_address = filtered_df[filtered_df['FROM_ADDRESS'] == address].copy().reset_index(drop=True)\n",
    "        filtered_df_to_this_address = filtered_df[filtered_df['TO_ADDRESS'] == address].copy().reset_index(drop=True)\n",
    "        if filtered_df_from_this_address.shape[0] + filtered_df_to_this_address.shape[0] == 0:\n",
    "            continue\n",
    "        # if transferred from this address then amount should be minus\n",
    "        filtered_df_from_this_address['RAW_AMOUNT_PRECISE'] *= -1\n",
    "        result_df = pd.concat([filtered_df_from_this_address, filtered_df_to_this_address])\n",
    "        result_df.sort_values(by=['BLOCK_TIMESTAMP', 'EVENT_INDEX'], inplace=True)\n",
    "        sum_total_at_the_end = result_df['RAW_AMOUNT_PRECISE'].sum()\n",
    "        if sum_total_at_the_end < 0:\n",
    "            continue\n",
    "        elif sum_total_at_the_end > 0:\n",
    "            fake_data = result_df.tail(1).copy()\n",
    "            fake_data[\"BLOCK_TIMESTAMP\"] = max_date\n",
    "            fake_data[\"RAW_AMOUNT_PRECISE\"] = 0\n",
    "            result_df = pd.concat([result_df, fake_data], axis=0, ignore_index=True)\n",
    "\n",
    "        # Resample the transactions to daily frequency and calculate the balance\n",
    "        daily_df = result_df.resample('D', on='BLOCK_TIMESTAMP').agg({'RAW_AMOUNT_PRECISE': 'sum'}).reset_index()\n",
    "        daily_df['BALANCE'] = daily_df['RAW_AMOUNT_PRECISE'].cumsum()\n",
    "        daily_df['ADDRESS'] = address\n",
    "        daily_df['CONTRACT_ADDRESS'] = contract_address\n",
    "        daily_df['DATE'] = daily_df['BLOCK_TIMESTAMP'].dt.date\n",
    "\n",
    "        # Append the daily balances to the result DataFrame\n",
    "        daily_balances = pd.concat([daily_balances, daily_df[['ADDRESS', 'CONTRACT_ADDRESS', 'BALANCE', 'DATE']]], ignore_index=True)"
   ]
  },
  {
   "cell_type": "code",
   "execution_count": 28,
   "id": "5aeddc2d6cd12767",
   "metadata": {
    "ExecuteTime": {
     "end_time": "2024-06-11T23:28:52.407090Z",
     "start_time": "2024-06-11T23:28:52.390578Z"
    }
   },
   "outputs": [
    {
     "data": {
      "text/plain": [
       "(1896007, 4)"
      ]
     },
     "execution_count": 28,
     "metadata": {},
     "output_type": "execute_result"
    }
   ],
   "source": [
    "daily_balances.shape"
   ]
  },
  {
   "cell_type": "code",
   "execution_count": 29,
   "id": "2e9d306a5b8fc23d",
   "metadata": {
    "ExecuteTime": {
     "end_time": "2024-06-11T23:28:56.313528Z",
     "start_time": "2024-06-11T23:28:56.153031Z"
    }
   },
   "outputs": [],
   "source": [
    "wrong_address_ids = daily_balances[daily_balances[\"BALANCE\"] < 0][\"ADDRESS\"].unique()\n",
    "correct_daily_df = daily_balances[~daily_balances[\"ADDRESS\"].isin(wrong_address_ids)].copy()"
   ]
  },
  {
   "cell_type": "code",
   "execution_count": 30,
   "id": "7c74214d",
   "metadata": {},
   "outputs": [
    {
     "data": {
      "text/html": [
       "<div>\n",
       "<style scoped>\n",
       "    .dataframe tbody tr th:only-of-type {\n",
       "        vertical-align: middle;\n",
       "    }\n",
       "\n",
       "    .dataframe tbody tr th {\n",
       "        vertical-align: top;\n",
       "    }\n",
       "\n",
       "    .dataframe thead th {\n",
       "        text-align: right;\n",
       "    }\n",
       "</style>\n",
       "<table border=\"1\" class=\"dataframe\">\n",
       "  <thead>\n",
       "    <tr style=\"text-align: right;\">\n",
       "      <th></th>\n",
       "      <th>ADDRESS</th>\n",
       "      <th>CONTRACT_ADDRESS</th>\n",
       "      <th>BALANCE</th>\n",
       "      <th>DATE</th>\n",
       "    </tr>\n",
       "  </thead>\n",
       "  <tbody>\n",
       "    <tr>\n",
       "      <th>0</th>\n",
       "      <td>0xbdfa4f4492dd7b7cf211209c4791af8d52bf5c50</td>\n",
       "      <td>0x9683d433621a83aa7dd290106e1da85251317f55</td>\n",
       "      <td>6.618387e+21</td>\n",
       "      <td>2022-01-13</td>\n",
       "    </tr>\n",
       "    <tr>\n",
       "      <th>1</th>\n",
       "      <td>0xbdfa4f4492dd7b7cf211209c4791af8d52bf5c50</td>\n",
       "      <td>0x9683d433621a83aa7dd290106e1da85251317f55</td>\n",
       "      <td>6.618387e+21</td>\n",
       "      <td>2022-01-14</td>\n",
       "    </tr>\n",
       "    <tr>\n",
       "      <th>2</th>\n",
       "      <td>0xbdfa4f4492dd7b7cf211209c4791af8d52bf5c50</td>\n",
       "      <td>0x9683d433621a83aa7dd290106e1da85251317f55</td>\n",
       "      <td>6.618387e+21</td>\n",
       "      <td>2022-01-15</td>\n",
       "    </tr>\n",
       "    <tr>\n",
       "      <th>3</th>\n",
       "      <td>0xbdfa4f4492dd7b7cf211209c4791af8d52bf5c50</td>\n",
       "      <td>0x9683d433621a83aa7dd290106e1da85251317f55</td>\n",
       "      <td>6.618387e+21</td>\n",
       "      <td>2022-01-16</td>\n",
       "    </tr>\n",
       "    <tr>\n",
       "      <th>4</th>\n",
       "      <td>0xbdfa4f4492dd7b7cf211209c4791af8d52bf5c50</td>\n",
       "      <td>0x9683d433621a83aa7dd290106e1da85251317f55</td>\n",
       "      <td>6.618387e+21</td>\n",
       "      <td>2022-01-17</td>\n",
       "    </tr>\n",
       "    <tr>\n",
       "      <th>...</th>\n",
       "      <td>...</td>\n",
       "      <td>...</td>\n",
       "      <td>...</td>\n",
       "      <td>...</td>\n",
       "    </tr>\n",
       "    <tr>\n",
       "      <th>1896002</th>\n",
       "      <td>0xcf3f5b3fc1c4abefffadba2bd18f533ffa2a6724</td>\n",
       "      <td>0xb6f1a307a0c9a03c67f8d646809e472014a3ee65</td>\n",
       "      <td>8.930000e+24</td>\n",
       "      <td>2022-12-29</td>\n",
       "    </tr>\n",
       "    <tr>\n",
       "      <th>1896003</th>\n",
       "      <td>0xcf3f5b3fc1c4abefffadba2bd18f533ffa2a6724</td>\n",
       "      <td>0xb6f1a307a0c9a03c67f8d646809e472014a3ee65</td>\n",
       "      <td>8.930000e+24</td>\n",
       "      <td>2022-12-30</td>\n",
       "    </tr>\n",
       "    <tr>\n",
       "      <th>1896004</th>\n",
       "      <td>0xcf3f5b3fc1c4abefffadba2bd18f533ffa2a6724</td>\n",
       "      <td>0xb6f1a307a0c9a03c67f8d646809e472014a3ee65</td>\n",
       "      <td>8.930000e+24</td>\n",
       "      <td>2022-12-31</td>\n",
       "    </tr>\n",
       "    <tr>\n",
       "      <th>1896005</th>\n",
       "      <td>0x272163e3f1735309609f22ccc8c7e330f961bfa6</td>\n",
       "      <td>0x4f65c0f7285d647e3b156c73cc5ebdc393d5aad6</td>\n",
       "      <td>0.000000e+00</td>\n",
       "      <td>2021-06-07</td>\n",
       "    </tr>\n",
       "    <tr>\n",
       "      <th>1896006</th>\n",
       "      <td>0xcf3f5b3fc1c4abefffadba2bd18f533ffa2a6724</td>\n",
       "      <td>0x4f65c0f7285d647e3b156c73cc5ebdc393d5aad6</td>\n",
       "      <td>0.000000e+00</td>\n",
       "      <td>2021-06-07</td>\n",
       "    </tr>\n",
       "  </tbody>\n",
       "</table>\n",
       "<p>1892926 rows × 4 columns</p>\n",
       "</div>"
      ],
      "text/plain": [
       "                                            ADDRESS  \\\n",
       "0        0xbdfa4f4492dd7b7cf211209c4791af8d52bf5c50   \n",
       "1        0xbdfa4f4492dd7b7cf211209c4791af8d52bf5c50   \n",
       "2        0xbdfa4f4492dd7b7cf211209c4791af8d52bf5c50   \n",
       "3        0xbdfa4f4492dd7b7cf211209c4791af8d52bf5c50   \n",
       "4        0xbdfa4f4492dd7b7cf211209c4791af8d52bf5c50   \n",
       "...                                             ...   \n",
       "1896002  0xcf3f5b3fc1c4abefffadba2bd18f533ffa2a6724   \n",
       "1896003  0xcf3f5b3fc1c4abefffadba2bd18f533ffa2a6724   \n",
       "1896004  0xcf3f5b3fc1c4abefffadba2bd18f533ffa2a6724   \n",
       "1896005  0x272163e3f1735309609f22ccc8c7e330f961bfa6   \n",
       "1896006  0xcf3f5b3fc1c4abefffadba2bd18f533ffa2a6724   \n",
       "\n",
       "                                   CONTRACT_ADDRESS       BALANCE        DATE  \n",
       "0        0x9683d433621a83aa7dd290106e1da85251317f55  6.618387e+21  2022-01-13  \n",
       "1        0x9683d433621a83aa7dd290106e1da85251317f55  6.618387e+21  2022-01-14  \n",
       "2        0x9683d433621a83aa7dd290106e1da85251317f55  6.618387e+21  2022-01-15  \n",
       "3        0x9683d433621a83aa7dd290106e1da85251317f55  6.618387e+21  2022-01-16  \n",
       "4        0x9683d433621a83aa7dd290106e1da85251317f55  6.618387e+21  2022-01-17  \n",
       "...                                             ...           ...         ...  \n",
       "1896002  0xb6f1a307a0c9a03c67f8d646809e472014a3ee65  8.930000e+24  2022-12-29  \n",
       "1896003  0xb6f1a307a0c9a03c67f8d646809e472014a3ee65  8.930000e+24  2022-12-30  \n",
       "1896004  0xb6f1a307a0c9a03c67f8d646809e472014a3ee65  8.930000e+24  2022-12-31  \n",
       "1896005  0x4f65c0f7285d647e3b156c73cc5ebdc393d5aad6  0.000000e+00  2021-06-07  \n",
       "1896006  0x4f65c0f7285d647e3b156c73cc5ebdc393d5aad6  0.000000e+00  2021-06-07  \n",
       "\n",
       "[1892926 rows x 4 columns]"
      ]
     },
     "execution_count": 30,
     "metadata": {},
     "output_type": "execute_result"
    }
   ],
   "source": [
    "correct_daily_df"
   ]
  },
  {
   "cell_type": "code",
   "execution_count": 31,
   "id": "d36d0f884a2959a4",
   "metadata": {
    "ExecuteTime": {
     "end_time": "2024-06-11T23:29:03.874747Z",
     "start_time": "2024-06-11T23:29:03.564942Z"
    }
   },
   "outputs": [],
   "source": [
    "daily_balances_each_contract = correct_daily_df.groupby([\"DATE\", \"CONTRACT_ADDRESS\"])[\"BALANCE\"].sum().reset_index()"
   ]
  },
  {
   "cell_type": "code",
   "execution_count": 32,
   "id": "c204440717b31e18",
   "metadata": {
    "ExecuteTime": {
     "end_time": "2024-06-11T23:35:10.103134Z",
     "start_time": "2024-06-11T23:35:10.089974Z"
    }
   },
   "outputs": [],
   "source": [
    "daily_balances_each_contract = daily_balances_each_contract[daily_balances_each_contract[\"BALANCE\"] > 0]\n",
    "daily_balances_each_contract.rename(columns={\"BALANCE\": \"CONTRACT_BALANCE\"}, inplace=True)"
   ]
  },
  {
   "cell_type": "code",
   "execution_count": 33,
   "id": "4f00696f83e3f8f3",
   "metadata": {
    "ExecuteTime": {
     "end_time": "2024-06-11T23:35:11.083498Z",
     "start_time": "2024-06-11T23:35:10.576855Z"
    }
   },
   "outputs": [],
   "source": [
    "correct_daily_df_with_contract_balances = correct_daily_df.merge(daily_balances_each_contract, on=[\"DATE\", \"CONTRACT_ADDRESS\"], how='left')"
   ]
  },
  {
   "cell_type": "code",
   "execution_count": 34,
   "id": "5763c803a1c74250",
   "metadata": {
    "ExecuteTime": {
     "end_time": "2024-06-11T23:35:16.557766Z",
     "start_time": "2024-06-11T23:35:16.459055Z"
    }
   },
   "outputs": [
    {
     "data": {
      "text/plain": [
       "201"
      ]
     },
     "execution_count": 34,
     "metadata": {},
     "output_type": "execute_result"
    }
   ],
   "source": [
    "sum(correct_daily_df_with_contract_balances[\"CONTRACT_BALANCE\"].isna())"
   ]
  },
  {
   "cell_type": "code",
   "execution_count": 35,
   "id": "f5f4ada9d4fdff5d",
   "metadata": {
    "ExecuteTime": {
     "end_time": "2024-06-11T23:35:35.770907Z",
     "start_time": "2024-06-11T23:35:35.268222Z"
    }
   },
   "outputs": [],
   "source": [
    "correct_daily_df_with_contract_balances = correct_daily_df_with_contract_balances[~correct_daily_df_with_contract_balances.isna()]"
   ]
  },
  {
   "cell_type": "code",
   "execution_count": 36,
   "id": "2617a255693bb5ce",
   "metadata": {
    "ExecuteTime": {
     "end_time": "2024-06-11T23:36:20.111959Z",
     "start_time": "2024-06-11T23:36:20.084448Z"
    }
   },
   "outputs": [],
   "source": [
    "correct_daily_df_with_contract_balances[\"percentage_ownership\"] = correct_daily_df_with_contract_balances[\"BALANCE\"] / correct_daily_df_with_contract_balances[\"CONTRACT_BALANCE\"]"
   ]
  },
  {
   "cell_type": "code",
   "execution_count": 37,
   "id": "bb433b1430bb4ce",
   "metadata": {
    "ExecuteTime": {
     "end_time": "2024-06-11T23:38:43.965587Z",
     "start_time": "2024-06-11T23:38:43.750390Z"
    }
   },
   "outputs": [],
   "source": [
    "correct_daily_df_with_contract_balances[\"week\"] = pd.to_datetime(correct_daily_df_with_contract_balances['DATE']).dt.to_period('W-SAT').dt.start_time"
   ]
  },
  {
   "cell_type": "code",
   "execution_count": 38,
   "id": "af80666863111f1d",
   "metadata": {
    "ExecuteTime": {
     "end_time": "2024-06-11T23:39:16.562157Z",
     "start_time": "2024-06-11T23:39:08.634521Z"
    }
   },
   "outputs": [],
   "source": [
    "correct_daily_df_with_contract_balances[\"week\"] = correct_daily_df_with_contract_balances[\"week\"].astype(str)"
   ]
  },
  {
   "cell_type": "code",
   "execution_count": 39,
   "id": "2effada4a1968b68",
   "metadata": {
    "ExecuteTime": {
     "end_time": "2024-06-11T23:42:41.639956Z",
     "start_time": "2024-06-11T23:42:41.020098Z"
    }
   },
   "outputs": [
    {
     "data": {
      "text/html": [
       "<div>\n",
       "<style scoped>\n",
       "    .dataframe tbody tr th:only-of-type {\n",
       "        vertical-align: middle;\n",
       "    }\n",
       "\n",
       "    .dataframe tbody tr th {\n",
       "        vertical-align: top;\n",
       "    }\n",
       "\n",
       "    .dataframe thead th {\n",
       "        text-align: right;\n",
       "    }\n",
       "</style>\n",
       "<table border=\"1\" class=\"dataframe\">\n",
       "  <thead>\n",
       "    <tr style=\"text-align: right;\">\n",
       "      <th></th>\n",
       "      <th>percentage_ownership</th>\n",
       "    </tr>\n",
       "  </thead>\n",
       "  <tbody>\n",
       "    <tr>\n",
       "      <th>count</th>\n",
       "      <td>5947.000000</td>\n",
       "    </tr>\n",
       "    <tr>\n",
       "      <th>mean</th>\n",
       "      <td>1.006737</td>\n",
       "    </tr>\n",
       "    <tr>\n",
       "      <th>std</th>\n",
       "      <td>0.090274</td>\n",
       "    </tr>\n",
       "    <tr>\n",
       "      <th>min</th>\n",
       "      <td>0.000000</td>\n",
       "    </tr>\n",
       "    <tr>\n",
       "      <th>25%</th>\n",
       "      <td>1.000000</td>\n",
       "    </tr>\n",
       "    <tr>\n",
       "      <th>50%</th>\n",
       "      <td>1.000000</td>\n",
       "    </tr>\n",
       "    <tr>\n",
       "      <th>75%</th>\n",
       "      <td>1.000000</td>\n",
       "    </tr>\n",
       "    <tr>\n",
       "      <th>max</th>\n",
       "      <td>2.077364</td>\n",
       "    </tr>\n",
       "  </tbody>\n",
       "</table>\n",
       "</div>"
      ],
      "text/plain": [
       "       percentage_ownership\n",
       "count           5947.000000\n",
       "mean               1.006737\n",
       "std                0.090274\n",
       "min                0.000000\n",
       "25%                1.000000\n",
       "50%                1.000000\n",
       "75%                1.000000\n",
       "max                2.077364"
      ]
     },
     "execution_count": 39,
     "metadata": {},
     "output_type": "execute_result"
    }
   ],
   "source": [
    "correct_daily_df_with_contract_balances.groupby(['week', 'ADDRESS', 'CONTRACT_ADDRESS'])[\"percentage_ownership\"].mean().reset_index().groupby([\"week\", \"CONTRACT_ADDRESS\"])[\"percentage_ownership\"].sum().reset_index().describe()"
   ]
  },
  {
   "cell_type": "code",
   "execution_count": 40,
   "id": "5f22237e061885f7",
   "metadata": {
    "ExecuteTime": {
     "end_time": "2024-06-11T23:48:34.939395Z",
     "start_time": "2024-06-11T23:48:33.512141Z"
    }
   },
   "outputs": [],
   "source": [
    "ownership_percentage = correct_daily_df_with_contract_balances.sort_values(by=['CONTRACT_ADDRESS', 'ADDRESS', 'DATE']).groupby(['week', 'ADDRESS', 'CONTRACT_ADDRESS'])[\"percentage_ownership\"].last().reset_index()"
   ]
  },
  {
   "cell_type": "code",
   "execution_count": 41,
   "id": "c90e9777",
   "metadata": {},
   "outputs": [
    {
     "data": {
      "text/html": [
       "<div>\n",
       "<style scoped>\n",
       "    .dataframe tbody tr th:only-of-type {\n",
       "        vertical-align: middle;\n",
       "    }\n",
       "\n",
       "    .dataframe tbody tr th {\n",
       "        vertical-align: top;\n",
       "    }\n",
       "\n",
       "    .dataframe thead th {\n",
       "        text-align: right;\n",
       "    }\n",
       "</style>\n",
       "<table border=\"1\" class=\"dataframe\">\n",
       "  <thead>\n",
       "    <tr style=\"text-align: right;\">\n",
       "      <th></th>\n",
       "      <th>week</th>\n",
       "      <th>ADDRESS</th>\n",
       "      <th>CONTRACT_ADDRESS</th>\n",
       "      <th>percentage_ownership</th>\n",
       "    </tr>\n",
       "  </thead>\n",
       "  <tbody>\n",
       "    <tr>\n",
       "      <th>0</th>\n",
       "      <td>2021-05-02</td>\n",
       "      <td>0x000f4432a40560bbff1b581a8b7aded8dab80026</td>\n",
       "      <td>0xb52f322f7534d60807700bd8414d3c498d4cef52</td>\n",
       "      <td>0.009088</td>\n",
       "    </tr>\n",
       "    <tr>\n",
       "      <th>1</th>\n",
       "      <td>2021-05-02</td>\n",
       "      <td>0x1626d1683ab6989960a7a86e94c86d783414869d</td>\n",
       "      <td>0xb52f322f7534d60807700bd8414d3c498d4cef52</td>\n",
       "      <td>0.005846</td>\n",
       "    </tr>\n",
       "    <tr>\n",
       "      <th>2</th>\n",
       "      <td>2021-05-02</td>\n",
       "      <td>0x178cfe4e55fd5720a1ede7f3f3f7f096c678a648</td>\n",
       "      <td>0xb52f322f7534d60807700bd8414d3c498d4cef52</td>\n",
       "      <td>0.000356</td>\n",
       "    </tr>\n",
       "    <tr>\n",
       "      <th>3</th>\n",
       "      <td>2021-05-02</td>\n",
       "      <td>0x279a3fdbd6d6252afc5c422439c7d7859a51a05e</td>\n",
       "      <td>0xb52f322f7534d60807700bd8414d3c498d4cef52</td>\n",
       "      <td>0.000167</td>\n",
       "    </tr>\n",
       "    <tr>\n",
       "      <th>4</th>\n",
       "      <td>2021-05-02</td>\n",
       "      <td>0x297946c26171008ba8c0e5642814b5fe6b842ab7</td>\n",
       "      <td>0xb52f322f7534d60807700bd8414d3c498d4cef52</td>\n",
       "      <td>0.074318</td>\n",
       "    </tr>\n",
       "    <tr>\n",
       "      <th>...</th>\n",
       "      <td>...</td>\n",
       "      <td>...</td>\n",
       "      <td>...</td>\n",
       "      <td>...</td>\n",
       "    </tr>\n",
       "    <tr>\n",
       "      <th>274880</th>\n",
       "      <td>2022-12-25</td>\n",
       "      <td>0xff703ebb19c1a4e27ba14e8d7538fc113ca5f906</td>\n",
       "      <td>0x9bf7b46c7ad5ab62034e9349ab912c0345164322</td>\n",
       "      <td>0.001491</td>\n",
       "    </tr>\n",
       "    <tr>\n",
       "      <th>274881</th>\n",
       "      <td>2022-12-25</td>\n",
       "      <td>0xffc8dae3fb28dc6224ae07fc0733001c9e1949e0</td>\n",
       "      <td>0x716bd8a7f8a44b010969a1825ae5658e7a18630d</td>\n",
       "      <td>0.070539</td>\n",
       "    </tr>\n",
       "    <tr>\n",
       "      <th>274882</th>\n",
       "      <td>2022-12-25</td>\n",
       "      <td>0xfff33c0bde72f6472f1d185166b7cbfcc3e9e150</td>\n",
       "      <td>0xd63b340f6e9cccf0c997c83c8d036fa53b113546</td>\n",
       "      <td>0.004525</td>\n",
       "    </tr>\n",
       "    <tr>\n",
       "      <th>274883</th>\n",
       "      <td>2022-12-25</td>\n",
       "      <td>0xfffa09b517354968d378573c9a31d1586fd8792d</td>\n",
       "      <td>0x9bf7b46c7ad5ab62034e9349ab912c0345164322</td>\n",
       "      <td>0.000232</td>\n",
       "    </tr>\n",
       "    <tr>\n",
       "      <th>274884</th>\n",
       "      <td>2022-12-25</td>\n",
       "      <td>0xfffa09b517354968d378573c9a31d1586fd8792d</td>\n",
       "      <td>0xe72f3e105e475d7db3a003ffa377afae9c2c6c11</td>\n",
       "      <td>0.000992</td>\n",
       "    </tr>\n",
       "  </tbody>\n",
       "</table>\n",
       "<p>274885 rows × 4 columns</p>\n",
       "</div>"
      ],
      "text/plain": [
       "              week                                     ADDRESS  \\\n",
       "0       2021-05-02  0x000f4432a40560bbff1b581a8b7aded8dab80026   \n",
       "1       2021-05-02  0x1626d1683ab6989960a7a86e94c86d783414869d   \n",
       "2       2021-05-02  0x178cfe4e55fd5720a1ede7f3f3f7f096c678a648   \n",
       "3       2021-05-02  0x279a3fdbd6d6252afc5c422439c7d7859a51a05e   \n",
       "4       2021-05-02  0x297946c26171008ba8c0e5642814b5fe6b842ab7   \n",
       "...            ...                                         ...   \n",
       "274880  2022-12-25  0xff703ebb19c1a4e27ba14e8d7538fc113ca5f906   \n",
       "274881  2022-12-25  0xffc8dae3fb28dc6224ae07fc0733001c9e1949e0   \n",
       "274882  2022-12-25  0xfff33c0bde72f6472f1d185166b7cbfcc3e9e150   \n",
       "274883  2022-12-25  0xfffa09b517354968d378573c9a31d1586fd8792d   \n",
       "274884  2022-12-25  0xfffa09b517354968d378573c9a31d1586fd8792d   \n",
       "\n",
       "                                  CONTRACT_ADDRESS  percentage_ownership  \n",
       "0       0xb52f322f7534d60807700bd8414d3c498d4cef52              0.009088  \n",
       "1       0xb52f322f7534d60807700bd8414d3c498d4cef52              0.005846  \n",
       "2       0xb52f322f7534d60807700bd8414d3c498d4cef52              0.000356  \n",
       "3       0xb52f322f7534d60807700bd8414d3c498d4cef52              0.000167  \n",
       "4       0xb52f322f7534d60807700bd8414d3c498d4cef52              0.074318  \n",
       "...                                            ...                   ...  \n",
       "274880  0x9bf7b46c7ad5ab62034e9349ab912c0345164322              0.001491  \n",
       "274881  0x716bd8a7f8a44b010969a1825ae5658e7a18630d              0.070539  \n",
       "274882  0xd63b340f6e9cccf0c997c83c8d036fa53b113546              0.004525  \n",
       "274883  0x9bf7b46c7ad5ab62034e9349ab912c0345164322              0.000232  \n",
       "274884  0xe72f3e105e475d7db3a003ffa377afae9c2c6c11              0.000992  \n",
       "\n",
       "[274885 rows x 4 columns]"
      ]
     },
     "execution_count": 41,
     "metadata": {},
     "output_type": "execute_result"
    }
   ],
   "source": [
    "ownership_percentage"
   ]
  },
  {
   "cell_type": "code",
   "execution_count": 42,
   "id": "223bf00c501225da",
   "metadata": {
    "ExecuteTime": {
     "end_time": "2024-06-11T23:51:31.181522Z",
     "start_time": "2024-06-11T23:51:30.249811Z"
    }
   },
   "outputs": [],
   "source": [
    "ownership_percentage[ownership_percentage[\"percentage_ownership\"] > 0].rename(columns={\"ADDRESS\":\"liquidity_provider\", \"CONTRACT_ADDRESS\": \"nf_position_manager_address\"}).to_csv(\"ownership_result0916.csv\", index=False)"
   ]
  },
  {
   "cell_type": "code",
   "execution_count": 146,
   "id": "34df6ba33b3bf481",
   "metadata": {
    "ExecuteTime": {
     "end_time": "2024-06-13T22:15:10.598900Z",
     "start_time": "2024-06-13T22:15:10.264482Z"
    }
   },
   "outputs": [
    {
     "ename": "AttributeError",
     "evalue": "'DataFrame' object has no attribute 'unique'",
     "output_type": "error",
     "traceback": [
      "\u001b[1;31m---------------------------------------------------------------------------\u001b[0m",
      "\u001b[1;31mAttributeError\u001b[0m                            Traceback (most recent call last)",
      "Input \u001b[1;32mIn [146]\u001b[0m, in \u001b[0;36m<cell line: 1>\u001b[1;34m()\u001b[0m\n\u001b[1;32m----> 1\u001b[0m \u001b[43mownership_percentage\u001b[49m\u001b[38;5;241;43m.\u001b[39;49m\u001b[43mrename\u001b[49m\u001b[43m(\u001b[49m\u001b[43mcolumns\u001b[49m\u001b[38;5;241;43m=\u001b[39;49m\u001b[43m{\u001b[49m\u001b[38;5;124;43m\"\u001b[39;49m\u001b[38;5;124;43mADDRESS\u001b[39;49m\u001b[38;5;124;43m\"\u001b[39;49m\u001b[43m:\u001b[49m\u001b[38;5;124;43m\"\u001b[39;49m\u001b[38;5;124;43mliquidity_provider\u001b[39;49m\u001b[38;5;124;43m\"\u001b[39;49m\u001b[43m,\u001b[49m\u001b[43m \u001b[49m\u001b[38;5;124;43m\"\u001b[39;49m\u001b[38;5;124;43mCONTRACT_ADDRESS\u001b[39;49m\u001b[38;5;124;43m\"\u001b[39;49m\u001b[43m:\u001b[49m\u001b[43m \u001b[49m\u001b[38;5;124;43m\"\u001b[39;49m\u001b[38;5;124;43mnf_position_manager_address\u001b[39;49m\u001b[38;5;124;43m\"\u001b[39;49m\u001b[43m}\u001b[49m\u001b[43m)\u001b[49m\u001b[38;5;241;43m.\u001b[39;49m\u001b[43mgroupby\u001b[49m\u001b[43m(\u001b[49m\u001b[43m[\u001b[49m\u001b[38;5;124;43m\"\u001b[39;49m\u001b[38;5;124;43mliquidity_provider\u001b[39;49m\u001b[38;5;124;43m\"\u001b[39;49m\u001b[43m]\u001b[49m\u001b[43m)\u001b[49m\u001b[38;5;241;43m.\u001b[39;49m\u001b[43mapply\u001b[49m\u001b[43m(\u001b[49m\u001b[38;5;28;43;01mlambda\u001b[39;49;00m\u001b[43m \u001b[49m\u001b[43mx\u001b[49m\u001b[43m:\u001b[49m\u001b[43m \u001b[49m\u001b[43mx\u001b[49m\u001b[38;5;241;43m.\u001b[39;49m\u001b[43munique\u001b[49m\u001b[43m(\u001b[49m\u001b[43m)\u001b[49m\u001b[38;5;241;43m.\u001b[39;49m\u001b[43mshape\u001b[49m\u001b[43m)\u001b[49m\n",
      "File \u001b[1;32m~\\Anaconda3\\envs\\uniswap_data_processing\\lib\\site-packages\\pandas\\core\\groupby\\groupby.py:1423\u001b[0m, in \u001b[0;36mGroupBy.apply\u001b[1;34m(self, func, *args, **kwargs)\u001b[0m\n\u001b[0;32m   1421\u001b[0m \u001b[38;5;28;01mwith\u001b[39;00m option_context(\u001b[38;5;124m\"\u001b[39m\u001b[38;5;124mmode.chained_assignment\u001b[39m\u001b[38;5;124m\"\u001b[39m, \u001b[38;5;28;01mNone\u001b[39;00m):\n\u001b[0;32m   1422\u001b[0m     \u001b[38;5;28;01mtry\u001b[39;00m:\n\u001b[1;32m-> 1423\u001b[0m         result \u001b[38;5;241m=\u001b[39m \u001b[38;5;28;43mself\u001b[39;49m\u001b[38;5;241;43m.\u001b[39;49m\u001b[43m_python_apply_general\u001b[49m\u001b[43m(\u001b[49m\u001b[43mf\u001b[49m\u001b[43m,\u001b[49m\u001b[43m \u001b[49m\u001b[38;5;28;43mself\u001b[39;49m\u001b[38;5;241;43m.\u001b[39;49m\u001b[43m_selected_obj\u001b[49m\u001b[43m)\u001b[49m\n\u001b[0;32m   1424\u001b[0m     \u001b[38;5;28;01mexcept\u001b[39;00m \u001b[38;5;167;01mTypeError\u001b[39;00m:\n\u001b[0;32m   1425\u001b[0m         \u001b[38;5;66;03m# gh-20949\u001b[39;00m\n\u001b[0;32m   1426\u001b[0m         \u001b[38;5;66;03m# try again, with .apply acting as a filtering\u001b[39;00m\n\u001b[1;32m   (...)\u001b[0m\n\u001b[0;32m   1430\u001b[0m         \u001b[38;5;66;03m# fails on *some* columns, e.g. a numeric operation\u001b[39;00m\n\u001b[0;32m   1431\u001b[0m         \u001b[38;5;66;03m# on a string grouper column\u001b[39;00m\n\u001b[0;32m   1433\u001b[0m         \u001b[38;5;28;01mwith\u001b[39;00m \u001b[38;5;28mself\u001b[39m\u001b[38;5;241m.\u001b[39m_group_selection_context():\n",
      "File \u001b[1;32m~\\Anaconda3\\envs\\uniswap_data_processing\\lib\\site-packages\\pandas\\core\\groupby\\groupby.py:1464\u001b[0m, in \u001b[0;36mGroupBy._python_apply_general\u001b[1;34m(self, f, data, not_indexed_same)\u001b[0m\n\u001b[0;32m   1438\u001b[0m \u001b[38;5;129m@final\u001b[39m\n\u001b[0;32m   1439\u001b[0m \u001b[38;5;28;01mdef\u001b[39;00m \u001b[38;5;21m_python_apply_general\u001b[39m(\n\u001b[0;32m   1440\u001b[0m     \u001b[38;5;28mself\u001b[39m,\n\u001b[1;32m   (...)\u001b[0m\n\u001b[0;32m   1443\u001b[0m     not_indexed_same: \u001b[38;5;28mbool\u001b[39m \u001b[38;5;241m|\u001b[39m \u001b[38;5;28;01mNone\u001b[39;00m \u001b[38;5;241m=\u001b[39m \u001b[38;5;28;01mNone\u001b[39;00m,\n\u001b[0;32m   1444\u001b[0m ) \u001b[38;5;241m-\u001b[39m\u001b[38;5;241m>\u001b[39m DataFrame \u001b[38;5;241m|\u001b[39m Series:\n\u001b[0;32m   1445\u001b[0m     \u001b[38;5;124;03m\"\"\"\u001b[39;00m\n\u001b[0;32m   1446\u001b[0m \u001b[38;5;124;03m    Apply function f in python space\u001b[39;00m\n\u001b[0;32m   1447\u001b[0m \n\u001b[1;32m   (...)\u001b[0m\n\u001b[0;32m   1462\u001b[0m \u001b[38;5;124;03m        data after applying f\u001b[39;00m\n\u001b[0;32m   1463\u001b[0m \u001b[38;5;124;03m    \"\"\"\u001b[39;00m\n\u001b[1;32m-> 1464\u001b[0m     values, mutated \u001b[38;5;241m=\u001b[39m \u001b[38;5;28;43mself\u001b[39;49m\u001b[38;5;241;43m.\u001b[39;49m\u001b[43mgrouper\u001b[49m\u001b[38;5;241;43m.\u001b[39;49m\u001b[43mapply\u001b[49m\u001b[43m(\u001b[49m\u001b[43mf\u001b[49m\u001b[43m,\u001b[49m\u001b[43m \u001b[49m\u001b[43mdata\u001b[49m\u001b[43m,\u001b[49m\u001b[43m \u001b[49m\u001b[38;5;28;43mself\u001b[39;49m\u001b[38;5;241;43m.\u001b[39;49m\u001b[43maxis\u001b[49m\u001b[43m)\u001b[49m\n\u001b[0;32m   1466\u001b[0m     \u001b[38;5;28;01mif\u001b[39;00m not_indexed_same \u001b[38;5;129;01mis\u001b[39;00m \u001b[38;5;28;01mNone\u001b[39;00m:\n\u001b[0;32m   1467\u001b[0m         not_indexed_same \u001b[38;5;241m=\u001b[39m mutated \u001b[38;5;129;01mor\u001b[39;00m \u001b[38;5;28mself\u001b[39m\u001b[38;5;241m.\u001b[39mmutated\n",
      "File \u001b[1;32m~\\Anaconda3\\envs\\uniswap_data_processing\\lib\\site-packages\\pandas\\core\\groupby\\ops.py:761\u001b[0m, in \u001b[0;36mBaseGrouper.apply\u001b[1;34m(self, f, data, axis)\u001b[0m\n\u001b[0;32m    759\u001b[0m \u001b[38;5;66;03m# group might be modified\u001b[39;00m\n\u001b[0;32m    760\u001b[0m group_axes \u001b[38;5;241m=\u001b[39m group\u001b[38;5;241m.\u001b[39maxes\n\u001b[1;32m--> 761\u001b[0m res \u001b[38;5;241m=\u001b[39m \u001b[43mf\u001b[49m\u001b[43m(\u001b[49m\u001b[43mgroup\u001b[49m\u001b[43m)\u001b[49m\n\u001b[0;32m    762\u001b[0m \u001b[38;5;28;01mif\u001b[39;00m \u001b[38;5;129;01mnot\u001b[39;00m mutated \u001b[38;5;129;01mand\u001b[39;00m \u001b[38;5;129;01mnot\u001b[39;00m _is_indexed_like(res, group_axes, axis):\n\u001b[0;32m    763\u001b[0m     mutated \u001b[38;5;241m=\u001b[39m \u001b[38;5;28;01mTrue\u001b[39;00m\n",
      "Input \u001b[1;32mIn [146]\u001b[0m, in \u001b[0;36m<lambda>\u001b[1;34m(x)\u001b[0m\n\u001b[1;32m----> 1\u001b[0m ownership_percentage\u001b[38;5;241m.\u001b[39mrename(columns\u001b[38;5;241m=\u001b[39m{\u001b[38;5;124m\"\u001b[39m\u001b[38;5;124mADDRESS\u001b[39m\u001b[38;5;124m\"\u001b[39m:\u001b[38;5;124m\"\u001b[39m\u001b[38;5;124mliquidity_provider\u001b[39m\u001b[38;5;124m\"\u001b[39m, \u001b[38;5;124m\"\u001b[39m\u001b[38;5;124mCONTRACT_ADDRESS\u001b[39m\u001b[38;5;124m\"\u001b[39m: \u001b[38;5;124m\"\u001b[39m\u001b[38;5;124mnf_position_manager_address\u001b[39m\u001b[38;5;124m\"\u001b[39m})\u001b[38;5;241m.\u001b[39mgroupby([\u001b[38;5;124m\"\u001b[39m\u001b[38;5;124mliquidity_provider\u001b[39m\u001b[38;5;124m\"\u001b[39m])\u001b[38;5;241m.\u001b[39mapply(\u001b[38;5;28;01mlambda\u001b[39;00m x: \u001b[43mx\u001b[49m\u001b[38;5;241;43m.\u001b[39;49m\u001b[43munique\u001b[49m()\u001b[38;5;241m.\u001b[39mshape)\n",
      "File \u001b[1;32m~\\Anaconda3\\envs\\uniswap_data_processing\\lib\\site-packages\\pandas\\core\\generic.py:5575\u001b[0m, in \u001b[0;36mNDFrame.__getattr__\u001b[1;34m(self, name)\u001b[0m\n\u001b[0;32m   5568\u001b[0m \u001b[38;5;28;01mif\u001b[39;00m (\n\u001b[0;32m   5569\u001b[0m     name \u001b[38;5;129;01mnot\u001b[39;00m \u001b[38;5;129;01min\u001b[39;00m \u001b[38;5;28mself\u001b[39m\u001b[38;5;241m.\u001b[39m_internal_names_set\n\u001b[0;32m   5570\u001b[0m     \u001b[38;5;129;01mand\u001b[39;00m name \u001b[38;5;129;01mnot\u001b[39;00m \u001b[38;5;129;01min\u001b[39;00m \u001b[38;5;28mself\u001b[39m\u001b[38;5;241m.\u001b[39m_metadata\n\u001b[0;32m   5571\u001b[0m     \u001b[38;5;129;01mand\u001b[39;00m name \u001b[38;5;129;01mnot\u001b[39;00m \u001b[38;5;129;01min\u001b[39;00m \u001b[38;5;28mself\u001b[39m\u001b[38;5;241m.\u001b[39m_accessors\n\u001b[0;32m   5572\u001b[0m     \u001b[38;5;129;01mand\u001b[39;00m \u001b[38;5;28mself\u001b[39m\u001b[38;5;241m.\u001b[39m_info_axis\u001b[38;5;241m.\u001b[39m_can_hold_identifiers_and_holds_name(name)\n\u001b[0;32m   5573\u001b[0m ):\n\u001b[0;32m   5574\u001b[0m     \u001b[38;5;28;01mreturn\u001b[39;00m \u001b[38;5;28mself\u001b[39m[name]\n\u001b[1;32m-> 5575\u001b[0m \u001b[38;5;28;01mreturn\u001b[39;00m \u001b[38;5;28;43mobject\u001b[39;49m\u001b[38;5;241;43m.\u001b[39;49m\u001b[38;5;21;43m__getattribute__\u001b[39;49m\u001b[43m(\u001b[49m\u001b[38;5;28;43mself\u001b[39;49m\u001b[43m,\u001b[49m\u001b[43m \u001b[49m\u001b[43mname\u001b[49m\u001b[43m)\u001b[49m\n",
      "\u001b[1;31mAttributeError\u001b[0m: 'DataFrame' object has no attribute 'unique'"
     ]
    }
   ],
   "source": [
    "ownership_percentage.rename(columns={\"ADDRESS\":\"liquidity_provider\", \"CONTRACT_ADDRESS\": \"nf_position_manager_address\"}).groupby([\"liquidity_provider\"]).apply(lambda x: x[].unique().shape)"
   ]
  },
  {
   "cell_type": "code",
   "execution_count": 43,
   "id": "bb68c78bbdb7e93f",
   "metadata": {
    "ExecuteTime": {
     "end_time": "2024-06-12T01:10:45.053020Z",
     "start_time": "2024-06-12T01:10:45.041955Z"
    }
   },
   "outputs": [
    {
     "data": {
      "text/plain": [
       "(270399, 4)"
      ]
     },
     "execution_count": 43,
     "metadata": {},
     "output_type": "execute_result"
    }
   ],
   "source": [
    "ownership_percentage[ownership_percentage[\"percentage_ownership\"] > 0].shape"
   ]
  },
  {
   "cell_type": "code",
   "execution_count": 139,
   "id": "41ecb677ae9987e4",
   "metadata": {
    "ExecuteTime": {
     "end_time": "2024-06-12T01:10:53.913235Z",
     "start_time": "2024-06-12T01:10:53.895723Z"
    }
   },
   "outputs": [
    {
     "data": {
      "text/plain": [
       "44.49906235349273"
      ]
     },
     "execution_count": 139,
     "metadata": {},
     "output_type": "execute_result"
    }
   ],
   "source": [
    "189833/4266"
   ]
  },
  {
   "cell_type": "code",
   "execution_count": 1,
   "id": "436a0612f5bc515e",
   "metadata": {
    "ExecuteTime": {
     "end_time": "2024-06-13T22:13:50.306212Z",
     "start_time": "2024-06-13T22:13:50.233747Z"
    }
   },
   "outputs": [
    {
     "ename": "NameError",
     "evalue": "name 'ownership_percentage' is not defined",
     "output_type": "error",
     "traceback": [
      "\u001b[1;31m---------------------------------------------------------------------------\u001b[0m",
      "\u001b[1;31mNameError\u001b[0m                                 Traceback (most recent call last)",
      "Input \u001b[1;32mIn [1]\u001b[0m, in \u001b[0;36m<cell line: 1>\u001b[1;34m()\u001b[0m\n\u001b[1;32m----> 1\u001b[0m \u001b[43mownership_percentage\u001b[49m\n",
      "\u001b[1;31mNameError\u001b[0m: name 'ownership_percentage' is not defined"
     ]
    }
   ],
   "source": [
    "ownership_percentage"
   ]
  },
  {
   "cell_type": "code",
   "execution_count": 148,
   "id": "2203ab390a08d601",
   "metadata": {
    "ExecuteTime": {
     "end_time": "2024-06-13T22:16:03.879390Z",
     "start_time": "2024-06-13T22:16:02.941853Z"
    }
   },
   "outputs": [],
   "source": [
    "ownership_percentage.rename(columns={\"ADDRESS\":\"liquidity_provider\", \"CONTRACT_ADDRESS\": \"nf_position_manager_address\"}).to_csv(\"0613_ownership_percentage.csv\", index=False)"
   ]
  },
  {
   "cell_type": "code",
   "execution_count": null,
   "id": "c6b6ca53bbd4821b",
   "metadata": {},
   "outputs": [],
   "source": []
  }
 ],
 "metadata": {
  "kernelspec": {
   "display_name": "Python 3",
   "language": "python",
   "name": "python3"
  },
  "language_info": {
   "codemirror_mode": {
    "name": "ipython",
    "version": 3
   },
   "file_extension": ".py",
   "mimetype": "text/x-python",
   "name": "python",
   "nbconvert_exporter": "python",
   "pygments_lexer": "ipython3",
   "version": "3.10.4"
  }
 },
 "nbformat": 4,
 "nbformat_minor": 5
}
